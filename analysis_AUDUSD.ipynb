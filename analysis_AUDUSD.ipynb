{
 "cells": [
  {
   "cell_type": "code",
   "execution_count": 1,
   "id": "283fe04a",
   "metadata": {},
   "outputs": [],
   "source": [
    "import pandas as pd\n",
    "import numpy as np\n",
    "import matplotlib.pyplot as plt\n",
    "\n",
    "df = pd.read_csv('AUDUSD-2000-2020-15m.csv')"
   ]
  },
  {
   "cell_type": "code",
   "execution_count": 2,
   "id": "aab098b5",
   "metadata": {},
   "outputs": [
    {
     "data": {
      "text/html": [
       "<div>\n",
       "<style scoped>\n",
       "    .dataframe tbody tr th:only-of-type {\n",
       "        vertical-align: middle;\n",
       "    }\n",
       "\n",
       "    .dataframe tbody tr th {\n",
       "        vertical-align: top;\n",
       "    }\n",
       "\n",
       "    .dataframe thead th {\n",
       "        text-align: right;\n",
       "    }\n",
       "</style>\n",
       "<table border=\"1\" class=\"dataframe\">\n",
       "  <thead>\n",
       "    <tr style=\"text-align: right;\">\n",
       "      <th></th>\n",
       "      <th>DATE_TIME</th>\n",
       "      <th>HIGH</th>\n",
       "      <th>LOW</th>\n",
       "      <th>OPEN</th>\n",
       "      <th>CLOSE</th>\n",
       "    </tr>\n",
       "  </thead>\n",
       "  <tbody>\n",
       "    <tr>\n",
       "      <th>0</th>\n",
       "      <td>2000.01.03 00:00:00</td>\n",
       "      <td>0.65740</td>\n",
       "      <td>0.65630</td>\n",
       "      <td>0.65630</td>\n",
       "      <td>0.65700</td>\n",
       "    </tr>\n",
       "    <tr>\n",
       "      <th>1</th>\n",
       "      <td>2000.01.03 00:15:00</td>\n",
       "      <td>0.65720</td>\n",
       "      <td>0.65700</td>\n",
       "      <td>0.65720</td>\n",
       "      <td>0.65700</td>\n",
       "    </tr>\n",
       "    <tr>\n",
       "      <th>2</th>\n",
       "      <td>2000.01.03 01:00:00</td>\n",
       "      <td>0.65850</td>\n",
       "      <td>0.65800</td>\n",
       "      <td>0.65800</td>\n",
       "      <td>0.65850</td>\n",
       "    </tr>\n",
       "    <tr>\n",
       "      <th>3</th>\n",
       "      <td>2000.01.03 01:15:00</td>\n",
       "      <td>0.65900</td>\n",
       "      <td>0.65850</td>\n",
       "      <td>0.65890</td>\n",
       "      <td>0.65850</td>\n",
       "    </tr>\n",
       "    <tr>\n",
       "      <th>4</th>\n",
       "      <td>2000.01.03 01:30:00</td>\n",
       "      <td>0.66020</td>\n",
       "      <td>0.65950</td>\n",
       "      <td>0.65950</td>\n",
       "      <td>0.66020</td>\n",
       "    </tr>\n",
       "    <tr>\n",
       "      <th>...</th>\n",
       "      <td>...</td>\n",
       "      <td>...</td>\n",
       "      <td>...</td>\n",
       "      <td>...</td>\n",
       "      <td>...</td>\n",
       "    </tr>\n",
       "    <tr>\n",
       "      <th>500022</th>\n",
       "      <td>2020.03.19 05:00:00</td>\n",
       "      <td>0.55519</td>\n",
       "      <td>0.55138</td>\n",
       "      <td>0.55518</td>\n",
       "      <td>0.55405</td>\n",
       "    </tr>\n",
       "    <tr>\n",
       "      <th>500023</th>\n",
       "      <td>2020.03.19 05:15:00</td>\n",
       "      <td>0.55528</td>\n",
       "      <td>0.55269</td>\n",
       "      <td>0.55406</td>\n",
       "      <td>0.55427</td>\n",
       "    </tr>\n",
       "    <tr>\n",
       "      <th>500024</th>\n",
       "      <td>2020.03.19 05:30:00</td>\n",
       "      <td>0.56336</td>\n",
       "      <td>0.55408</td>\n",
       "      <td>0.55427</td>\n",
       "      <td>0.55843</td>\n",
       "    </tr>\n",
       "    <tr>\n",
       "      <th>500025</th>\n",
       "      <td>2020.03.19 05:45:00</td>\n",
       "      <td>0.55907</td>\n",
       "      <td>0.55530</td>\n",
       "      <td>0.55846</td>\n",
       "      <td>0.55576</td>\n",
       "    </tr>\n",
       "    <tr>\n",
       "      <th>500026</th>\n",
       "      <td>2020.03.19 06:00:00</td>\n",
       "      <td>0.55812</td>\n",
       "      <td>0.55576</td>\n",
       "      <td>0.55576</td>\n",
       "      <td>0.55712</td>\n",
       "    </tr>\n",
       "  </tbody>\n",
       "</table>\n",
       "<p>500027 rows × 5 columns</p>\n",
       "</div>"
      ],
      "text/plain": [
       "                  DATE_TIME     HIGH      LOW     OPEN    CLOSE\n",
       "0       2000.01.03 00:00:00  0.65740  0.65630  0.65630  0.65700\n",
       "1       2000.01.03 00:15:00  0.65720  0.65700  0.65720  0.65700\n",
       "2       2000.01.03 01:00:00  0.65850  0.65800  0.65800  0.65850\n",
       "3       2000.01.03 01:15:00  0.65900  0.65850  0.65890  0.65850\n",
       "4       2000.01.03 01:30:00  0.66020  0.65950  0.65950  0.66020\n",
       "...                     ...      ...      ...      ...      ...\n",
       "500022  2020.03.19 05:00:00  0.55519  0.55138  0.55518  0.55405\n",
       "500023  2020.03.19 05:15:00  0.55528  0.55269  0.55406  0.55427\n",
       "500024  2020.03.19 05:30:00  0.56336  0.55408  0.55427  0.55843\n",
       "500025  2020.03.19 05:45:00  0.55907  0.55530  0.55846  0.55576\n",
       "500026  2020.03.19 06:00:00  0.55812  0.55576  0.55576  0.55712\n",
       "\n",
       "[500027 rows x 5 columns]"
      ]
     },
     "execution_count": 2,
     "metadata": {},
     "output_type": "execute_result"
    }
   ],
   "source": [
    "df"
   ]
  },
  {
   "cell_type": "code",
   "execution_count": 3,
   "id": "412d9707",
   "metadata": {},
   "outputs": [
    {
     "data": {
      "text/plain": [
       "DATE_TIME    0\n",
       "HIGH         0\n",
       "LOW          0\n",
       "OPEN         0\n",
       "CLOSE        0\n",
       "dtype: int64"
      ]
     },
     "execution_count": 3,
     "metadata": {},
     "output_type": "execute_result"
    }
   ],
   "source": [
    "df.isnull().sum()"
   ]
  },
  {
   "cell_type": "code",
   "execution_count": 4,
   "id": "8ce34c55",
   "metadata": {},
   "outputs": [
    {
     "data": {
      "text/plain": [
       "DATE_TIME    500027\n",
       "HIGH         500027\n",
       "LOW          500027\n",
       "OPEN         500027\n",
       "CLOSE        500027\n",
       "dtype: int64"
      ]
     },
     "execution_count": 4,
     "metadata": {},
     "output_type": "execute_result"
    }
   ],
   "source": [
    "df.notnull().sum()"
   ]
  },
  {
   "cell_type": "code",
   "execution_count": 5,
   "id": "c6b0ed25",
   "metadata": {},
   "outputs": [
    {
     "name": "stdout",
     "output_type": "stream",
     "text": [
      "<class 'pandas.core.frame.DataFrame'>\n",
      "RangeIndex: 500027 entries, 0 to 500026\n",
      "Data columns (total 5 columns):\n",
      " #   Column     Non-Null Count   Dtype  \n",
      "---  ------     --------------   -----  \n",
      " 0   DATE_TIME  500027 non-null  object \n",
      " 1   HIGH       500027 non-null  float64\n",
      " 2   LOW        500027 non-null  float64\n",
      " 3   OPEN       500027 non-null  float64\n",
      " 4   CLOSE      500027 non-null  float64\n",
      "dtypes: float64(4), object(1)\n",
      "memory usage: 19.1+ MB\n"
     ]
    }
   ],
   "source": [
    "df.info()"
   ]
  },
  {
   "cell_type": "code",
   "execution_count": 6,
   "id": "bd616364",
   "metadata": {},
   "outputs": [
    {
     "data": {
      "text/plain": [
       "Index(['DATE_TIME', 'HIGH', 'LOW', 'OPEN', 'CLOSE'], dtype='object')"
      ]
     },
     "execution_count": 6,
     "metadata": {},
     "output_type": "execute_result"
    }
   ],
   "source": [
    "df.columns"
   ]
  },
  {
   "cell_type": "code",
   "execution_count": 7,
   "id": "7872ccbe",
   "metadata": {},
   "outputs": [
    {
     "data": {
      "text/plain": [
       "0         2000.01.03 00:00:00\n",
       "1         2000.01.03 00:15:00\n",
       "2         2000.01.03 01:00:00\n",
       "3         2000.01.03 01:15:00\n",
       "4         2000.01.03 01:30:00\n",
       "                 ...         \n",
       "500022    2020.03.19 05:00:00\n",
       "500023    2020.03.19 05:15:00\n",
       "500024    2020.03.19 05:30:00\n",
       "500025    2020.03.19 05:45:00\n",
       "500026    2020.03.19 06:00:00\n",
       "Name: DATE_TIME, Length: 500027, dtype: object"
      ]
     },
     "execution_count": 7,
     "metadata": {},
     "output_type": "execute_result"
    }
   ],
   "source": [
    "df['DATE_TIME']"
   ]
  },
  {
   "cell_type": "code",
   "execution_count": 8,
   "id": "908c3fd5",
   "metadata": {},
   "outputs": [
    {
     "data": {
      "text/html": [
       "<div>\n",
       "<style scoped>\n",
       "    .dataframe tbody tr th:only-of-type {\n",
       "        vertical-align: middle;\n",
       "    }\n",
       "\n",
       "    .dataframe tbody tr th {\n",
       "        vertical-align: top;\n",
       "    }\n",
       "\n",
       "    .dataframe thead th {\n",
       "        text-align: right;\n",
       "    }\n",
       "</style>\n",
       "<table border=\"1\" class=\"dataframe\">\n",
       "  <thead>\n",
       "    <tr style=\"text-align: right;\">\n",
       "      <th></th>\n",
       "      <th>DATE_TIME</th>\n",
       "      <th>HIGH</th>\n",
       "      <th>LOW</th>\n",
       "      <th>OPEN</th>\n",
       "      <th>CLOSE</th>\n",
       "    </tr>\n",
       "  </thead>\n",
       "  <tbody>\n",
       "    <tr>\n",
       "      <th>0</th>\n",
       "      <td>2000.01.03 00:00:00</td>\n",
       "      <td>0.6574</td>\n",
       "      <td>0.6563</td>\n",
       "      <td>0.6563</td>\n",
       "      <td>0.657</td>\n",
       "    </tr>\n",
       "    <tr>\n",
       "      <th>1</th>\n",
       "      <td>2000.01.03 00:15:00</td>\n",
       "      <td>0.6572</td>\n",
       "      <td>0.6570</td>\n",
       "      <td>0.6572</td>\n",
       "      <td>0.657</td>\n",
       "    </tr>\n",
       "  </tbody>\n",
       "</table>\n",
       "</div>"
      ],
      "text/plain": [
       "             DATE_TIME    HIGH     LOW    OPEN  CLOSE\n",
       "0  2000.01.03 00:00:00  0.6574  0.6563  0.6563  0.657\n",
       "1  2000.01.03 00:15:00  0.6572  0.6570  0.6572  0.657"
      ]
     },
     "execution_count": 8,
     "metadata": {},
     "output_type": "execute_result"
    }
   ],
   "source": [
    "df.head(2)"
   ]
  },
  {
   "cell_type": "code",
   "execution_count": 9,
   "id": "6a4cb18b",
   "metadata": {},
   "outputs": [
    {
     "data": {
      "text/html": [
       "<div>\n",
       "<style scoped>\n",
       "    .dataframe tbody tr th:only-of-type {\n",
       "        vertical-align: middle;\n",
       "    }\n",
       "\n",
       "    .dataframe tbody tr th {\n",
       "        vertical-align: top;\n",
       "    }\n",
       "\n",
       "    .dataframe thead th {\n",
       "        text-align: right;\n",
       "    }\n",
       "</style>\n",
       "<table border=\"1\" class=\"dataframe\">\n",
       "  <thead>\n",
       "    <tr style=\"text-align: right;\">\n",
       "      <th></th>\n",
       "      <th>HIGH</th>\n",
       "      <th>LOW</th>\n",
       "      <th>OPEN</th>\n",
       "      <th>CLOSE</th>\n",
       "    </tr>\n",
       "  </thead>\n",
       "  <tbody>\n",
       "    <tr>\n",
       "      <th>count</th>\n",
       "      <td>500027.000000</td>\n",
       "      <td>500027.000000</td>\n",
       "      <td>500027.000000</td>\n",
       "      <td>500027.000000</td>\n",
       "    </tr>\n",
       "    <tr>\n",
       "      <th>mean</th>\n",
       "      <td>0.778912</td>\n",
       "      <td>0.778012</td>\n",
       "      <td>0.778462</td>\n",
       "      <td>0.778461</td>\n",
       "    </tr>\n",
       "    <tr>\n",
       "      <th>std</th>\n",
       "      <td>0.148241</td>\n",
       "      <td>0.148199</td>\n",
       "      <td>0.148221</td>\n",
       "      <td>0.148221</td>\n",
       "    </tr>\n",
       "    <tr>\n",
       "      <th>min</th>\n",
       "      <td>0.478200</td>\n",
       "      <td>0.477500</td>\n",
       "      <td>0.477700</td>\n",
       "      <td>0.477900</td>\n",
       "    </tr>\n",
       "    <tr>\n",
       "      <th>25%</th>\n",
       "      <td>0.695400</td>\n",
       "      <td>0.694500</td>\n",
       "      <td>0.694935</td>\n",
       "      <td>0.694930</td>\n",
       "    </tr>\n",
       "    <tr>\n",
       "      <th>50%</th>\n",
       "      <td>0.761870</td>\n",
       "      <td>0.761000</td>\n",
       "      <td>0.761430</td>\n",
       "      <td>0.761430</td>\n",
       "    </tr>\n",
       "    <tr>\n",
       "      <th>75%</th>\n",
       "      <td>0.895110</td>\n",
       "      <td>0.894150</td>\n",
       "      <td>0.894600</td>\n",
       "      <td>0.894600</td>\n",
       "    </tr>\n",
       "    <tr>\n",
       "      <th>max</th>\n",
       "      <td>1.107970</td>\n",
       "      <td>1.106700</td>\n",
       "      <td>1.107210</td>\n",
       "      <td>1.107200</td>\n",
       "    </tr>\n",
       "  </tbody>\n",
       "</table>\n",
       "</div>"
      ],
      "text/plain": [
       "                HIGH            LOW           OPEN          CLOSE\n",
       "count  500027.000000  500027.000000  500027.000000  500027.000000\n",
       "mean        0.778912       0.778012       0.778462       0.778461\n",
       "std         0.148241       0.148199       0.148221       0.148221\n",
       "min         0.478200       0.477500       0.477700       0.477900\n",
       "25%         0.695400       0.694500       0.694935       0.694930\n",
       "50%         0.761870       0.761000       0.761430       0.761430\n",
       "75%         0.895110       0.894150       0.894600       0.894600\n",
       "max         1.107970       1.106700       1.107210       1.107200"
      ]
     },
     "execution_count": 9,
     "metadata": {},
     "output_type": "execute_result"
    }
   ],
   "source": [
    "df.describe()"
   ]
  },
  {
   "cell_type": "markdown",
   "id": "d94d4894",
   "metadata": {},
   "source": [
    "## Data preprocessing "
   ]
  },
  {
   "cell_type": "code",
   "execution_count": 10,
   "id": "4a39a8f7",
   "metadata": {},
   "outputs": [
    {
     "data": {
      "text/html": [
       "<div>\n",
       "<style scoped>\n",
       "    .dataframe tbody tr th:only-of-type {\n",
       "        vertical-align: middle;\n",
       "    }\n",
       "\n",
       "    .dataframe tbody tr th {\n",
       "        vertical-align: top;\n",
       "    }\n",
       "\n",
       "    .dataframe thead th {\n",
       "        text-align: right;\n",
       "    }\n",
       "</style>\n",
       "<table border=\"1\" class=\"dataframe\">\n",
       "  <thead>\n",
       "    <tr style=\"text-align: right;\">\n",
       "      <th></th>\n",
       "      <th>DATE_TIME</th>\n",
       "      <th>HIGH</th>\n",
       "      <th>LOW</th>\n",
       "      <th>OPEN</th>\n",
       "      <th>CLOSE</th>\n",
       "    </tr>\n",
       "  </thead>\n",
       "  <tbody>\n",
       "    <tr>\n",
       "      <th>0</th>\n",
       "      <td>2000.01.03 00:00:00</td>\n",
       "      <td>0.6574</td>\n",
       "      <td>0.6563</td>\n",
       "      <td>0.6563</td>\n",
       "      <td>0.657</td>\n",
       "    </tr>\n",
       "    <tr>\n",
       "      <th>1</th>\n",
       "      <td>2000.01.03 00:15:00</td>\n",
       "      <td>0.6572</td>\n",
       "      <td>0.6570</td>\n",
       "      <td>0.6572</td>\n",
       "      <td>0.657</td>\n",
       "    </tr>\n",
       "  </tbody>\n",
       "</table>\n",
       "</div>"
      ],
      "text/plain": [
       "             DATE_TIME    HIGH     LOW    OPEN  CLOSE\n",
       "0  2000.01.03 00:00:00  0.6574  0.6563  0.6563  0.657\n",
       "1  2000.01.03 00:15:00  0.6572  0.6570  0.6572  0.657"
      ]
     },
     "execution_count": 10,
     "metadata": {},
     "output_type": "execute_result"
    }
   ],
   "source": [
    "df.head(2)"
   ]
  },
  {
   "cell_type": "code",
   "execution_count": 11,
   "id": "9bc9bb8b",
   "metadata": {},
   "outputs": [],
   "source": [
    "df['DATE_TIME'] = pd.to_datetime(df['DATE_TIME'])"
   ]
  },
  {
   "cell_type": "code",
   "execution_count": 12,
   "id": "dcfbd4b1",
   "metadata": {},
   "outputs": [
    {
     "data": {
      "text/html": [
       "<div>\n",
       "<style scoped>\n",
       "    .dataframe tbody tr th:only-of-type {\n",
       "        vertical-align: middle;\n",
       "    }\n",
       "\n",
       "    .dataframe tbody tr th {\n",
       "        vertical-align: top;\n",
       "    }\n",
       "\n",
       "    .dataframe thead th {\n",
       "        text-align: right;\n",
       "    }\n",
       "</style>\n",
       "<table border=\"1\" class=\"dataframe\">\n",
       "  <thead>\n",
       "    <tr style=\"text-align: right;\">\n",
       "      <th></th>\n",
       "      <th>DATE_TIME</th>\n",
       "      <th>HIGH</th>\n",
       "      <th>LOW</th>\n",
       "      <th>OPEN</th>\n",
       "      <th>CLOSE</th>\n",
       "    </tr>\n",
       "  </thead>\n",
       "  <tbody>\n",
       "    <tr>\n",
       "      <th>0</th>\n",
       "      <td>2000-01-03 00:00:00</td>\n",
       "      <td>0.6574</td>\n",
       "      <td>0.6563</td>\n",
       "      <td>0.6563</td>\n",
       "      <td>0.657</td>\n",
       "    </tr>\n",
       "    <tr>\n",
       "      <th>1</th>\n",
       "      <td>2000-01-03 00:15:00</td>\n",
       "      <td>0.6572</td>\n",
       "      <td>0.6570</td>\n",
       "      <td>0.6572</td>\n",
       "      <td>0.657</td>\n",
       "    </tr>\n",
       "  </tbody>\n",
       "</table>\n",
       "</div>"
      ],
      "text/plain": [
       "            DATE_TIME    HIGH     LOW    OPEN  CLOSE\n",
       "0 2000-01-03 00:00:00  0.6574  0.6563  0.6563  0.657\n",
       "1 2000-01-03 00:15:00  0.6572  0.6570  0.6572  0.657"
      ]
     },
     "execution_count": 12,
     "metadata": {},
     "output_type": "execute_result"
    }
   ],
   "source": [
    "df.head(2)"
   ]
  },
  {
   "cell_type": "code",
   "execution_count": 13,
   "id": "74558831",
   "metadata": {},
   "outputs": [],
   "source": [
    "df = df.set_index('DATE_TIME')"
   ]
  },
  {
   "cell_type": "code",
   "execution_count": 14,
   "id": "ff745ffc",
   "metadata": {},
   "outputs": [
    {
     "data": {
      "text/html": [
       "<div>\n",
       "<style scoped>\n",
       "    .dataframe tbody tr th:only-of-type {\n",
       "        vertical-align: middle;\n",
       "    }\n",
       "\n",
       "    .dataframe tbody tr th {\n",
       "        vertical-align: top;\n",
       "    }\n",
       "\n",
       "    .dataframe thead th {\n",
       "        text-align: right;\n",
       "    }\n",
       "</style>\n",
       "<table border=\"1\" class=\"dataframe\">\n",
       "  <thead>\n",
       "    <tr style=\"text-align: right;\">\n",
       "      <th></th>\n",
       "      <th>HIGH</th>\n",
       "      <th>LOW</th>\n",
       "      <th>OPEN</th>\n",
       "      <th>CLOSE</th>\n",
       "    </tr>\n",
       "    <tr>\n",
       "      <th>DATE_TIME</th>\n",
       "      <th></th>\n",
       "      <th></th>\n",
       "      <th></th>\n",
       "      <th></th>\n",
       "    </tr>\n",
       "  </thead>\n",
       "  <tbody>\n",
       "    <tr>\n",
       "      <th>2000-01-03 00:00:00</th>\n",
       "      <td>0.6574</td>\n",
       "      <td>0.6563</td>\n",
       "      <td>0.6563</td>\n",
       "      <td>0.657</td>\n",
       "    </tr>\n",
       "    <tr>\n",
       "      <th>2000-01-03 00:15:00</th>\n",
       "      <td>0.6572</td>\n",
       "      <td>0.6570</td>\n",
       "      <td>0.6572</td>\n",
       "      <td>0.657</td>\n",
       "    </tr>\n",
       "  </tbody>\n",
       "</table>\n",
       "</div>"
      ],
      "text/plain": [
       "                       HIGH     LOW    OPEN  CLOSE\n",
       "DATE_TIME                                         \n",
       "2000-01-03 00:00:00  0.6574  0.6563  0.6563  0.657\n",
       "2000-01-03 00:15:00  0.6572  0.6570  0.6572  0.657"
      ]
     },
     "execution_count": 14,
     "metadata": {},
     "output_type": "execute_result"
    }
   ],
   "source": [
    "df.head(2)"
   ]
  },
  {
   "cell_type": "code",
   "execution_count": 15,
   "id": "01993978",
   "metadata": {},
   "outputs": [
    {
     "data": {
      "text/plain": [
       "DatetimeIndex(['2000-01-03 00:00:00', '2000-01-03 00:15:00',\n",
       "               '2000-01-03 01:00:00', '2000-01-03 01:15:00',\n",
       "               '2000-01-03 01:30:00', '2000-01-03 01:45:00',\n",
       "               '2000-01-03 02:00:00', '2000-01-03 02:15:00',\n",
       "               '2000-01-03 02:30:00', '2000-01-03 02:45:00',\n",
       "               ...\n",
       "               '2020-03-19 03:45:00', '2020-03-19 04:00:00',\n",
       "               '2020-03-19 04:15:00', '2020-03-19 04:30:00',\n",
       "               '2020-03-19 04:45:00', '2020-03-19 05:00:00',\n",
       "               '2020-03-19 05:15:00', '2020-03-19 05:30:00',\n",
       "               '2020-03-19 05:45:00', '2020-03-19 06:00:00'],\n",
       "              dtype='datetime64[ns]', name='DATE_TIME', length=500027, freq=None)"
      ]
     },
     "execution_count": 15,
     "metadata": {},
     "output_type": "execute_result"
    }
   ],
   "source": [
    "df.index"
   ]
  },
  {
   "cell_type": "code",
   "execution_count": 16,
   "id": "c7694afe",
   "metadata": {},
   "outputs": [
    {
     "data": {
      "text/plain": [
       "dtype('<M8[ns]')"
      ]
     },
     "execution_count": 16,
     "metadata": {},
     "output_type": "execute_result"
    }
   ],
   "source": [
    "df.index.dtype"
   ]
  },
  {
   "cell_type": "code",
   "execution_count": 17,
   "id": "43f0c3f4",
   "metadata": {},
   "outputs": [
    {
     "data": {
      "text/plain": [
       "HIGH     18644.55847\n",
       "LOW      18623.83095\n",
       "OPEN     18634.08182\n",
       "CLOSE    18634.05059\n",
       "dtype: float64"
      ]
     },
     "execution_count": 17,
     "metadata": {},
     "output_type": "execute_result"
    }
   ],
   "source": [
    "df[df.index.year == 2015].sum()"
   ]
  },
  {
   "cell_type": "markdown",
   "id": "dc494963",
   "metadata": {},
   "source": [
    "## Basic Statistical Analysis"
   ]
  },
  {
   "cell_type": "code",
   "execution_count": 18,
   "id": "b9e15e06",
   "metadata": {},
   "outputs": [
    {
     "data": {
      "text/html": [
       "<div>\n",
       "<style scoped>\n",
       "    .dataframe tbody tr th:only-of-type {\n",
       "        vertical-align: middle;\n",
       "    }\n",
       "\n",
       "    .dataframe tbody tr th {\n",
       "        vertical-align: top;\n",
       "    }\n",
       "\n",
       "    .dataframe thead th {\n",
       "        text-align: right;\n",
       "    }\n",
       "</style>\n",
       "<table border=\"1\" class=\"dataframe\">\n",
       "  <thead>\n",
       "    <tr style=\"text-align: right;\">\n",
       "      <th></th>\n",
       "      <th>HIGH</th>\n",
       "      <th>LOW</th>\n",
       "      <th>OPEN</th>\n",
       "      <th>CLOSE</th>\n",
       "    </tr>\n",
       "    <tr>\n",
       "      <th>DATE_TIME</th>\n",
       "      <th></th>\n",
       "      <th></th>\n",
       "      <th></th>\n",
       "      <th></th>\n",
       "    </tr>\n",
       "  </thead>\n",
       "  <tbody>\n",
       "    <tr>\n",
       "      <th>2000-01-03 00:00:00</th>\n",
       "      <td>0.6574</td>\n",
       "      <td>0.6563</td>\n",
       "      <td>0.6563</td>\n",
       "      <td>0.657</td>\n",
       "    </tr>\n",
       "    <tr>\n",
       "      <th>2000-01-03 00:15:00</th>\n",
       "      <td>0.6572</td>\n",
       "      <td>0.6570</td>\n",
       "      <td>0.6572</td>\n",
       "      <td>0.657</td>\n",
       "    </tr>\n",
       "  </tbody>\n",
       "</table>\n",
       "</div>"
      ],
      "text/plain": [
       "                       HIGH     LOW    OPEN  CLOSE\n",
       "DATE_TIME                                         \n",
       "2000-01-03 00:00:00  0.6574  0.6563  0.6563  0.657\n",
       "2000-01-03 00:15:00  0.6572  0.6570  0.6572  0.657"
      ]
     },
     "execution_count": 18,
     "metadata": {},
     "output_type": "execute_result"
    }
   ],
   "source": [
    "df.head(2)"
   ]
  },
  {
   "cell_type": "code",
   "execution_count": 19,
   "id": "f575a214",
   "metadata": {},
   "outputs": [
    {
     "data": {
      "text/plain": [
       "OPEN     0.778462\n",
       "CLOSE    0.778461\n",
       "dtype: float64"
      ]
     },
     "execution_count": 19,
     "metadata": {},
     "output_type": "execute_result"
    }
   ],
   "source": [
    "df[['OPEN', 'CLOSE']].mean()"
   ]
  },
  {
   "cell_type": "code",
   "execution_count": 20,
   "id": "f8f5feb7",
   "metadata": {},
   "outputs": [
    {
     "data": {
      "text/html": [
       "<div>\n",
       "<style scoped>\n",
       "    .dataframe tbody tr th:only-of-type {\n",
       "        vertical-align: middle;\n",
       "    }\n",
       "\n",
       "    .dataframe tbody tr th {\n",
       "        vertical-align: top;\n",
       "    }\n",
       "\n",
       "    .dataframe thead th {\n",
       "        text-align: right;\n",
       "    }\n",
       "</style>\n",
       "<table border=\"1\" class=\"dataframe\">\n",
       "  <thead>\n",
       "    <tr style=\"text-align: right;\">\n",
       "      <th></th>\n",
       "      <th>HIGH</th>\n",
       "      <th>LOW</th>\n",
       "      <th>OPEN</th>\n",
       "      <th>CLOSE</th>\n",
       "    </tr>\n",
       "  </thead>\n",
       "  <tbody>\n",
       "    <tr>\n",
       "      <th>count</th>\n",
       "      <td>500027.000000</td>\n",
       "      <td>500027.000000</td>\n",
       "      <td>500027.000000</td>\n",
       "      <td>500027.000000</td>\n",
       "    </tr>\n",
       "    <tr>\n",
       "      <th>mean</th>\n",
       "      <td>0.778912</td>\n",
       "      <td>0.778012</td>\n",
       "      <td>0.778462</td>\n",
       "      <td>0.778461</td>\n",
       "    </tr>\n",
       "    <tr>\n",
       "      <th>std</th>\n",
       "      <td>0.148241</td>\n",
       "      <td>0.148199</td>\n",
       "      <td>0.148221</td>\n",
       "      <td>0.148221</td>\n",
       "    </tr>\n",
       "    <tr>\n",
       "      <th>min</th>\n",
       "      <td>0.478200</td>\n",
       "      <td>0.477500</td>\n",
       "      <td>0.477700</td>\n",
       "      <td>0.477900</td>\n",
       "    </tr>\n",
       "    <tr>\n",
       "      <th>25%</th>\n",
       "      <td>0.695400</td>\n",
       "      <td>0.694500</td>\n",
       "      <td>0.694935</td>\n",
       "      <td>0.694930</td>\n",
       "    </tr>\n",
       "    <tr>\n",
       "      <th>50%</th>\n",
       "      <td>0.761870</td>\n",
       "      <td>0.761000</td>\n",
       "      <td>0.761430</td>\n",
       "      <td>0.761430</td>\n",
       "    </tr>\n",
       "    <tr>\n",
       "      <th>75%</th>\n",
       "      <td>0.895110</td>\n",
       "      <td>0.894150</td>\n",
       "      <td>0.894600</td>\n",
       "      <td>0.894600</td>\n",
       "    </tr>\n",
       "    <tr>\n",
       "      <th>max</th>\n",
       "      <td>1.107970</td>\n",
       "      <td>1.106700</td>\n",
       "      <td>1.107210</td>\n",
       "      <td>1.107200</td>\n",
       "    </tr>\n",
       "  </tbody>\n",
       "</table>\n",
       "</div>"
      ],
      "text/plain": [
       "                HIGH            LOW           OPEN          CLOSE\n",
       "count  500027.000000  500027.000000  500027.000000  500027.000000\n",
       "mean        0.778912       0.778012       0.778462       0.778461\n",
       "std         0.148241       0.148199       0.148221       0.148221\n",
       "min         0.478200       0.477500       0.477700       0.477900\n",
       "25%         0.695400       0.694500       0.694935       0.694930\n",
       "50%         0.761870       0.761000       0.761430       0.761430\n",
       "75%         0.895110       0.894150       0.894600       0.894600\n",
       "max         1.107970       1.106700       1.107210       1.107200"
      ]
     },
     "execution_count": 20,
     "metadata": {},
     "output_type": "execute_result"
    }
   ],
   "source": [
    "df[['HIGH', 'LOW', 'OPEN', 'CLOSE']].describe()"
   ]
  },
  {
   "cell_type": "code",
   "execution_count": 21,
   "id": "cabd00b7",
   "metadata": {},
   "outputs": [
    {
     "data": {
      "text/html": [
       "<div>\n",
       "<style scoped>\n",
       "    .dataframe tbody tr th:only-of-type {\n",
       "        vertical-align: middle;\n",
       "    }\n",
       "\n",
       "    .dataframe tbody tr th {\n",
       "        vertical-align: top;\n",
       "    }\n",
       "\n",
       "    .dataframe thead th {\n",
       "        text-align: right;\n",
       "    }\n",
       "</style>\n",
       "<table border=\"1\" class=\"dataframe\">\n",
       "  <thead>\n",
       "    <tr style=\"text-align: right;\">\n",
       "      <th></th>\n",
       "      <th>HIGH</th>\n",
       "      <th>LOW</th>\n",
       "      <th>OPEN</th>\n",
       "      <th>CLOSE</th>\n",
       "    </tr>\n",
       "  </thead>\n",
       "  <tbody>\n",
       "    <tr>\n",
       "      <th>HIGH</th>\n",
       "      <td>1.000000</td>\n",
       "      <td>0.999990</td>\n",
       "      <td>0.999994</td>\n",
       "      <td>0.999995</td>\n",
       "    </tr>\n",
       "    <tr>\n",
       "      <th>LOW</th>\n",
       "      <td>0.999990</td>\n",
       "      <td>1.000000</td>\n",
       "      <td>0.999994</td>\n",
       "      <td>0.999995</td>\n",
       "    </tr>\n",
       "    <tr>\n",
       "      <th>OPEN</th>\n",
       "      <td>0.999994</td>\n",
       "      <td>0.999994</td>\n",
       "      <td>1.000000</td>\n",
       "      <td>0.999991</td>\n",
       "    </tr>\n",
       "    <tr>\n",
       "      <th>CLOSE</th>\n",
       "      <td>0.999995</td>\n",
       "      <td>0.999995</td>\n",
       "      <td>0.999991</td>\n",
       "      <td>1.000000</td>\n",
       "    </tr>\n",
       "  </tbody>\n",
       "</table>\n",
       "</div>"
      ],
      "text/plain": [
       "           HIGH       LOW      OPEN     CLOSE\n",
       "HIGH   1.000000  0.999990  0.999994  0.999995\n",
       "LOW    0.999990  1.000000  0.999994  0.999995\n",
       "OPEN   0.999994  0.999994  1.000000  0.999991\n",
       "CLOSE  0.999995  0.999995  0.999991  1.000000"
      ]
     },
     "execution_count": 21,
     "metadata": {},
     "output_type": "execute_result"
    }
   ],
   "source": [
    "df[['HIGH', 'LOW', 'OPEN', 'CLOSE']].corr()"
   ]
  },
  {
   "cell_type": "code",
   "execution_count": 22,
   "id": "9054e3e9",
   "metadata": {},
   "outputs": [
    {
     "data": {
      "text/html": [
       "<div>\n",
       "<style scoped>\n",
       "    .dataframe tbody tr th:only-of-type {\n",
       "        vertical-align: middle;\n",
       "    }\n",
       "\n",
       "    .dataframe tbody tr th {\n",
       "        vertical-align: top;\n",
       "    }\n",
       "\n",
       "    .dataframe thead th {\n",
       "        text-align: right;\n",
       "    }\n",
       "</style>\n",
       "<table border=\"1\" class=\"dataframe\">\n",
       "  <thead>\n",
       "    <tr style=\"text-align: right;\">\n",
       "      <th></th>\n",
       "      <th>HIGH</th>\n",
       "      <th>LOW</th>\n",
       "      <th>OPEN</th>\n",
       "      <th>CLOSE</th>\n",
       "      <th>PRICE_RANGE</th>\n",
       "    </tr>\n",
       "    <tr>\n",
       "      <th>DATE_TIME</th>\n",
       "      <th></th>\n",
       "      <th></th>\n",
       "      <th></th>\n",
       "      <th></th>\n",
       "      <th></th>\n",
       "    </tr>\n",
       "  </thead>\n",
       "  <tbody>\n",
       "    <tr>\n",
       "      <th>2000-01-03 00:00:00</th>\n",
       "      <td>0.6574</td>\n",
       "      <td>0.6563</td>\n",
       "      <td>0.6563</td>\n",
       "      <td>0.657</td>\n",
       "      <td>0.0011</td>\n",
       "    </tr>\n",
       "    <tr>\n",
       "      <th>2000-01-03 00:15:00</th>\n",
       "      <td>0.6572</td>\n",
       "      <td>0.6570</td>\n",
       "      <td>0.6572</td>\n",
       "      <td>0.657</td>\n",
       "      <td>0.0002</td>\n",
       "    </tr>\n",
       "  </tbody>\n",
       "</table>\n",
       "</div>"
      ],
      "text/plain": [
       "                       HIGH     LOW    OPEN  CLOSE  PRICE_RANGE\n",
       "DATE_TIME                                                      \n",
       "2000-01-03 00:00:00  0.6574  0.6563  0.6563  0.657       0.0011\n",
       "2000-01-03 00:15:00  0.6572  0.6570  0.6572  0.657       0.0002"
      ]
     },
     "execution_count": 22,
     "metadata": {},
     "output_type": "execute_result"
    }
   ],
   "source": [
    "df['PRICE_RANGE'] = df['HIGH'] - df['LOW']\n",
    "df.head(2)"
   ]
  },
  {
   "cell_type": "code",
   "execution_count": 23,
   "id": "d757b392",
   "metadata": {},
   "outputs": [
    {
     "data": {
      "text/plain": [
       "count    500027.000000\n",
       "mean          0.000900\n",
       "std           0.000653\n",
       "min           0.000000\n",
       "25%           0.000500\n",
       "50%           0.000760\n",
       "75%           0.001100\n",
       "max           0.027850\n",
       "Name: PRICE_RANGE, dtype: float64"
      ]
     },
     "execution_count": 23,
     "metadata": {},
     "output_type": "execute_result"
    }
   ],
   "source": [
    "df['PRICE_RANGE'].describe()"
   ]
  },
  {
   "cell_type": "code",
   "execution_count": 70,
   "id": "7c20553d",
   "metadata": {},
   "outputs": [
    {
     "data": {
      "image/png": "[encoded data removed]",
      "text/plain": [
       "<Figure size 1600x700 with 1 Axes>"
      ]
     },
     "metadata": {},
     "output_type": "display_data"
    }
   ],
   "source": [
    "# Create a histogram of price ranges\n",
    "plt.figure(figsize=(16, 7))\n",
    "plt.hist(df['PRICE_RANGE'], bins=50)\n",
    "plt.title('Distribution of AUDUSD Price Ranges')\n",
    "plt.xlabel('Price Range')\n",
    "plt.ylabel('Frequency')\n",
    "plt.grid(True)\n",
    "plt.show()"
   ]
  },
  {
   "cell_type": "markdown",
   "id": "58083cde",
   "metadata": {},
   "source": [
    "## Time series Analysis"
   ]
  },
  {
   "cell_type": "code",
   "execution_count": 25,
   "id": "6534f2e5",
   "metadata": {},
   "outputs": [
    {
     "data": {
      "text/html": [
       "<div>\n",
       "<style scoped>\n",
       "    .dataframe tbody tr th:only-of-type {\n",
       "        vertical-align: middle;\n",
       "    }\n",
       "\n",
       "    .dataframe tbody tr th {\n",
       "        vertical-align: top;\n",
       "    }\n",
       "\n",
       "    .dataframe thead th {\n",
       "        text-align: right;\n",
       "    }\n",
       "</style>\n",
       "<table border=\"1\" class=\"dataframe\">\n",
       "  <thead>\n",
       "    <tr style=\"text-align: right;\">\n",
       "      <th></th>\n",
       "      <th>HIGH</th>\n",
       "      <th>LOW</th>\n",
       "      <th>OPEN</th>\n",
       "      <th>CLOSE</th>\n",
       "      <th>PRICE_RANGE</th>\n",
       "    </tr>\n",
       "    <tr>\n",
       "      <th>DATE_TIME</th>\n",
       "      <th></th>\n",
       "      <th></th>\n",
       "      <th></th>\n",
       "      <th></th>\n",
       "      <th></th>\n",
       "    </tr>\n",
       "  </thead>\n",
       "  <tbody>\n",
       "    <tr>\n",
       "      <th>2000-01-03 00:00:00</th>\n",
       "      <td>0.6574</td>\n",
       "      <td>0.6563</td>\n",
       "      <td>0.6563</td>\n",
       "      <td>0.657</td>\n",
       "      <td>0.0011</td>\n",
       "    </tr>\n",
       "    <tr>\n",
       "      <th>2000-01-03 00:15:00</th>\n",
       "      <td>0.6572</td>\n",
       "      <td>0.6570</td>\n",
       "      <td>0.6572</td>\n",
       "      <td>0.657</td>\n",
       "      <td>0.0002</td>\n",
       "    </tr>\n",
       "  </tbody>\n",
       "</table>\n",
       "</div>"
      ],
      "text/plain": [
       "                       HIGH     LOW    OPEN  CLOSE  PRICE_RANGE\n",
       "DATE_TIME                                                      \n",
       "2000-01-03 00:00:00  0.6574  0.6563  0.6563  0.657       0.0011\n",
       "2000-01-03 00:15:00  0.6572  0.6570  0.6572  0.657       0.0002"
      ]
     },
     "execution_count": 25,
     "metadata": {},
     "output_type": "execute_result"
    }
   ],
   "source": [
    "df.head(2)"
   ]
  },
  {
   "cell_type": "code",
   "execution_count": 26,
   "id": "efd511c3",
   "metadata": {},
   "outputs": [],
   "source": [
    "daily_df = df.resample('D').agg({\n",
    "    'OPEN': 'first',\n",
    "    'HIGH': 'max',\n",
    "    'LOW': 'min',\n",
    "    'CLOSE': 'last',\n",
    "})"
   ]
  },
  {
   "cell_type": "code",
   "execution_count": 27,
   "id": "125cc1a9",
   "metadata": {},
   "outputs": [],
   "source": [
    "\n",
    "# calculate returns\n",
    "df['RETURNS'] = df['CLOSE'].pct_change()\n",
    "df['LOG_RETURNS'] = np.log(df['CLOSE'] / df['CLOSE'].shift(1))"
   ]
  },
  {
   "cell_type": "code",
   "execution_count": 28,
   "id": "e525812d",
   "metadata": {},
   "outputs": [],
   "source": [
    "# Volatility (rolling standard deviation)\n",
    "\n",
    "df['VOLATILITY'] = df['RETURNS'].rolling(window=20).std()"
   ]
  },
  {
   "cell_type": "code",
   "execution_count": 30,
   "id": "57db78f1",
   "metadata": {},
   "outputs": [
    {
     "data": {
      "text/html": [
       "<div>\n",
       "<style scoped>\n",
       "    .dataframe tbody tr th:only-of-type {\n",
       "        vertical-align: middle;\n",
       "    }\n",
       "\n",
       "    .dataframe tbody tr th {\n",
       "        vertical-align: top;\n",
       "    }\n",
       "\n",
       "    .dataframe thead th {\n",
       "        text-align: right;\n",
       "    }\n",
       "</style>\n",
       "<table border=\"1\" class=\"dataframe\">\n",
       "  <thead>\n",
       "    <tr style=\"text-align: right;\">\n",
       "      <th></th>\n",
       "      <th>HIGH</th>\n",
       "      <th>LOW</th>\n",
       "      <th>OPEN</th>\n",
       "      <th>CLOSE</th>\n",
       "      <th>PRICE_RANGE</th>\n",
       "      <th>RETURNS</th>\n",
       "      <th>LOG_RETURNS</th>\n",
       "      <th>VOLATILITY</th>\n",
       "    </tr>\n",
       "    <tr>\n",
       "      <th>DATE_TIME</th>\n",
       "      <th></th>\n",
       "      <th></th>\n",
       "      <th></th>\n",
       "      <th></th>\n",
       "      <th></th>\n",
       "      <th></th>\n",
       "      <th></th>\n",
       "      <th></th>\n",
       "    </tr>\n",
       "  </thead>\n",
       "  <tbody>\n",
       "    <tr>\n",
       "      <th>2000-01-03 00:00:00</th>\n",
       "      <td>0.6574</td>\n",
       "      <td>0.6563</td>\n",
       "      <td>0.6563</td>\n",
       "      <td>0.657</td>\n",
       "      <td>0.0011</td>\n",
       "      <td>NaN</td>\n",
       "      <td>NaN</td>\n",
       "      <td>NaN</td>\n",
       "    </tr>\n",
       "    <tr>\n",
       "      <th>2000-01-03 00:15:00</th>\n",
       "      <td>0.6572</td>\n",
       "      <td>0.6570</td>\n",
       "      <td>0.6572</td>\n",
       "      <td>0.657</td>\n",
       "      <td>0.0002</td>\n",
       "      <td>0.0</td>\n",
       "      <td>0.0</td>\n",
       "      <td>NaN</td>\n",
       "    </tr>\n",
       "  </tbody>\n",
       "</table>\n",
       "</div>"
      ],
      "text/plain": [
       "                       HIGH     LOW    OPEN  CLOSE  PRICE_RANGE  RETURNS  \\\n",
       "DATE_TIME                                                                  \n",
       "2000-01-03 00:00:00  0.6574  0.6563  0.6563  0.657       0.0011      NaN   \n",
       "2000-01-03 00:15:00  0.6572  0.6570  0.6572  0.657       0.0002      0.0   \n",
       "\n",
       "                     LOG_RETURNS  VOLATILITY  \n",
       "DATE_TIME                                     \n",
       "2000-01-03 00:00:00          NaN         NaN  \n",
       "2000-01-03 00:15:00          0.0         NaN  "
      ]
     },
     "execution_count": 30,
     "metadata": {},
     "output_type": "execute_result"
    }
   ],
   "source": [
    "df.head(2)"
   ]
  },
  {
   "cell_type": "markdown",
   "id": "a1b6625d",
   "metadata": {},
   "source": [
    "## Technical Indicators"
   ]
  },
  {
   "cell_type": "code",
   "execution_count": 42,
   "id": "b51c8f2c",
   "metadata": {},
   "outputs": [],
   "source": [
    "# Moving averages\n",
    "\n",
    "df['SMA_20'] = df['CLOSE'].rolling(window = 20).mean()\n",
    "df['SMA_50'] = df['CLOSE'].rolling(window=50).mean()"
   ]
  },
  {
   "cell_type": "code",
   "execution_count": 41,
   "id": "06983a09",
   "metadata": {},
   "outputs": [],
   "source": [
    "# RSI (Relative Strength Index)\n",
    "def calculate_rsi(prices, window = 14):\n",
    "    delta = prices.diff()\n",
    "    gain = (delta.where(delta > 0, 0)).rolling(window=window).mean()\n",
    "    loss = (-delta.where(delta < 0, 0)).rolling(window=window).mean()\n",
    "    rs =gain / loss\n",
    "    rsi = 100 - (100/(1+rs))\n",
    "    return rsi\n",
    "\n",
    "df['RSI_14'] = calculate_rsi(df['CLOSE'])"
   ]
  },
  {
   "cell_type": "code",
   "execution_count": 31,
   "id": "74f8c332",
   "metadata": {},
   "outputs": [
    {
     "data": {
      "text/html": [
       "<div>\n",
       "<style scoped>\n",
       "    .dataframe tbody tr th:only-of-type {\n",
       "        vertical-align: middle;\n",
       "    }\n",
       "\n",
       "    .dataframe tbody tr th {\n",
       "        vertical-align: top;\n",
       "    }\n",
       "\n",
       "    .dataframe thead th {\n",
       "        text-align: right;\n",
       "    }\n",
       "</style>\n",
       "<table border=\"1\" class=\"dataframe\">\n",
       "  <thead>\n",
       "    <tr style=\"text-align: right;\">\n",
       "      <th></th>\n",
       "      <th>HIGH</th>\n",
       "      <th>LOW</th>\n",
       "      <th>OPEN</th>\n",
       "      <th>CLOSE</th>\n",
       "      <th>PRICE_RANGE</th>\n",
       "      <th>RETURNS</th>\n",
       "      <th>LOG_RETURNS</th>\n",
       "      <th>VOLATILITY</th>\n",
       "    </tr>\n",
       "    <tr>\n",
       "      <th>DATE_TIME</th>\n",
       "      <th></th>\n",
       "      <th></th>\n",
       "      <th></th>\n",
       "      <th></th>\n",
       "      <th></th>\n",
       "      <th></th>\n",
       "      <th></th>\n",
       "      <th></th>\n",
       "    </tr>\n",
       "  </thead>\n",
       "  <tbody>\n",
       "    <tr>\n",
       "      <th>2000-01-03 00:00:00</th>\n",
       "      <td>0.6574</td>\n",
       "      <td>0.6563</td>\n",
       "      <td>0.6563</td>\n",
       "      <td>0.657</td>\n",
       "      <td>0.0011</td>\n",
       "      <td>NaN</td>\n",
       "      <td>NaN</td>\n",
       "      <td>NaN</td>\n",
       "    </tr>\n",
       "    <tr>\n",
       "      <th>2000-01-03 00:15:00</th>\n",
       "      <td>0.6572</td>\n",
       "      <td>0.6570</td>\n",
       "      <td>0.6572</td>\n",
       "      <td>0.657</td>\n",
       "      <td>0.0002</td>\n",
       "      <td>0.0</td>\n",
       "      <td>0.0</td>\n",
       "      <td>NaN</td>\n",
       "    </tr>\n",
       "  </tbody>\n",
       "</table>\n",
       "</div>"
      ],
      "text/plain": [
       "                       HIGH     LOW    OPEN  CLOSE  PRICE_RANGE  RETURNS  \\\n",
       "DATE_TIME                                                                  \n",
       "2000-01-03 00:00:00  0.6574  0.6563  0.6563  0.657       0.0011      NaN   \n",
       "2000-01-03 00:15:00  0.6572  0.6570  0.6572  0.657       0.0002      0.0   \n",
       "\n",
       "                     LOG_RETURNS  VOLATILITY  \n",
       "DATE_TIME                                     \n",
       "2000-01-03 00:00:00          NaN         NaN  \n",
       "2000-01-03 00:15:00          0.0         NaN  "
      ]
     },
     "execution_count": 31,
     "metadata": {},
     "output_type": "execute_result"
    }
   ],
   "source": [
    "df.head(2)"
   ]
  },
  {
   "cell_type": "markdown",
   "id": "3b4303e8",
   "metadata": {},
   "source": [
    "## Pattern Analysis"
   ]
  },
  {
   "cell_type": "code",
   "execution_count": 43,
   "id": "983fde33",
   "metadata": {},
   "outputs": [],
   "source": [
    "def find_support_resistance(df, window = 20):\n",
    "    df['Resistance'] = df['HIGH'].rolling(window = window).max()\n",
    "    df['SUPPORT'] = df['LOW'].rolling(window = window).min()\n",
    "    return df\n",
    "\n",
    "df = find_support_resistance(df)\n",
    "\n",
    "# Trend Analysis\n",
    "\n",
    "df['TREND'] = np.where(df['CLOSE'] > df['SMA_20'], 'Uptrend', 'Downtrend')"
   ]
  },
  {
   "cell_type": "code",
   "execution_count": 32,
   "id": "067020c3",
   "metadata": {},
   "outputs": [
    {
     "data": {
      "text/html": [
       "<div>\n",
       "<style scoped>\n",
       "    .dataframe tbody tr th:only-of-type {\n",
       "        vertical-align: middle;\n",
       "    }\n",
       "\n",
       "    .dataframe tbody tr th {\n",
       "        vertical-align: top;\n",
       "    }\n",
       "\n",
       "    .dataframe thead th {\n",
       "        text-align: right;\n",
       "    }\n",
       "</style>\n",
       "<table border=\"1\" class=\"dataframe\">\n",
       "  <thead>\n",
       "    <tr style=\"text-align: right;\">\n",
       "      <th></th>\n",
       "      <th>HIGH</th>\n",
       "      <th>LOW</th>\n",
       "      <th>OPEN</th>\n",
       "      <th>CLOSE</th>\n",
       "      <th>PRICE_RANGE</th>\n",
       "      <th>RETURNS</th>\n",
       "      <th>LOG_RETURNS</th>\n",
       "      <th>VOLATILITY</th>\n",
       "    </tr>\n",
       "    <tr>\n",
       "      <th>DATE_TIME</th>\n",
       "      <th></th>\n",
       "      <th></th>\n",
       "      <th></th>\n",
       "      <th></th>\n",
       "      <th></th>\n",
       "      <th></th>\n",
       "      <th></th>\n",
       "      <th></th>\n",
       "    </tr>\n",
       "  </thead>\n",
       "  <tbody>\n",
       "    <tr>\n",
       "      <th>2000-01-03 00:00:00</th>\n",
       "      <td>0.6574</td>\n",
       "      <td>0.6563</td>\n",
       "      <td>0.6563</td>\n",
       "      <td>0.657</td>\n",
       "      <td>0.0011</td>\n",
       "      <td>NaN</td>\n",
       "      <td>NaN</td>\n",
       "      <td>NaN</td>\n",
       "    </tr>\n",
       "    <tr>\n",
       "      <th>2000-01-03 00:15:00</th>\n",
       "      <td>0.6572</td>\n",
       "      <td>0.6570</td>\n",
       "      <td>0.6572</td>\n",
       "      <td>0.657</td>\n",
       "      <td>0.0002</td>\n",
       "      <td>0.0</td>\n",
       "      <td>0.0</td>\n",
       "      <td>NaN</td>\n",
       "    </tr>\n",
       "  </tbody>\n",
       "</table>\n",
       "</div>"
      ],
      "text/plain": [
       "                       HIGH     LOW    OPEN  CLOSE  PRICE_RANGE  RETURNS  \\\n",
       "DATE_TIME                                                                  \n",
       "2000-01-03 00:00:00  0.6574  0.6563  0.6563  0.657       0.0011      NaN   \n",
       "2000-01-03 00:15:00  0.6572  0.6570  0.6572  0.657       0.0002      0.0   \n",
       "\n",
       "                     LOG_RETURNS  VOLATILITY  \n",
       "DATE_TIME                                     \n",
       "2000-01-03 00:00:00          NaN         NaN  \n",
       "2000-01-03 00:15:00          0.0         NaN  "
      ]
     },
     "execution_count": 32,
     "metadata": {},
     "output_type": "execute_result"
    }
   ],
   "source": [
    "df.head(2)"
   ]
  },
  {
   "cell_type": "code",
   "execution_count": 44,
   "id": "5549046c",
   "metadata": {},
   "outputs": [
    {
     "data": {
      "text/plain": [
       "Index(['HIGH', 'LOW', 'OPEN', 'CLOSE', 'PRICE_RANGE', 'RETURNS', 'LOG_RETURNS',\n",
       "       'VOLATILITY', 'RSI_14', 'SMA_20', 'SMA_50', 'Resistance', 'SUPPORT',\n",
       "       'TREND'],\n",
       "      dtype='object')"
      ]
     },
     "execution_count": 44,
     "metadata": {},
     "output_type": "execute_result"
    }
   ],
   "source": [
    "df.columns "
   ]
  },
  {
   "cell_type": "markdown",
   "id": "9f536795",
   "metadata": {},
   "source": [
    "## Visualization Commands"
   ]
  },
  {
   "cell_type": "code",
   "execution_count": 45,
   "id": "ec8588d8",
   "metadata": {},
   "outputs": [
    {
     "data": {
      "text/html": [
       "<div>\n",
       "<style scoped>\n",
       "    .dataframe tbody tr th:only-of-type {\n",
       "        vertical-align: middle;\n",
       "    }\n",
       "\n",
       "    .dataframe tbody tr th {\n",
       "        vertical-align: top;\n",
       "    }\n",
       "\n",
       "    .dataframe thead th {\n",
       "        text-align: right;\n",
       "    }\n",
       "</style>\n",
       "<table border=\"1\" class=\"dataframe\">\n",
       "  <thead>\n",
       "    <tr style=\"text-align: right;\">\n",
       "      <th></th>\n",
       "      <th>HIGH</th>\n",
       "      <th>LOW</th>\n",
       "      <th>OPEN</th>\n",
       "      <th>CLOSE</th>\n",
       "      <th>PRICE_RANGE</th>\n",
       "      <th>RETURNS</th>\n",
       "      <th>LOG_RETURNS</th>\n",
       "      <th>VOLATILITY</th>\n",
       "      <th>RSI_14</th>\n",
       "      <th>SMA_20</th>\n",
       "      <th>SMA_50</th>\n",
       "      <th>Resistance</th>\n",
       "      <th>SUPPORT</th>\n",
       "      <th>TREND</th>\n",
       "    </tr>\n",
       "    <tr>\n",
       "      <th>DATE_TIME</th>\n",
       "      <th></th>\n",
       "      <th></th>\n",
       "      <th></th>\n",
       "      <th></th>\n",
       "      <th></th>\n",
       "      <th></th>\n",
       "      <th></th>\n",
       "      <th></th>\n",
       "      <th></th>\n",
       "      <th></th>\n",
       "      <th></th>\n",
       "      <th></th>\n",
       "      <th></th>\n",
       "      <th></th>\n",
       "    </tr>\n",
       "  </thead>\n",
       "  <tbody>\n",
       "    <tr>\n",
       "      <th>2000-01-03 00:00:00</th>\n",
       "      <td>0.6574</td>\n",
       "      <td>0.6563</td>\n",
       "      <td>0.6563</td>\n",
       "      <td>0.657</td>\n",
       "      <td>0.0011</td>\n",
       "      <td>NaN</td>\n",
       "      <td>NaN</td>\n",
       "      <td>NaN</td>\n",
       "      <td>NaN</td>\n",
       "      <td>NaN</td>\n",
       "      <td>NaN</td>\n",
       "      <td>NaN</td>\n",
       "      <td>NaN</td>\n",
       "      <td>Downtrend</td>\n",
       "    </tr>\n",
       "    <tr>\n",
       "      <th>2000-01-03 00:15:00</th>\n",
       "      <td>0.6572</td>\n",
       "      <td>0.6570</td>\n",
       "      <td>0.6572</td>\n",
       "      <td>0.657</td>\n",
       "      <td>0.0002</td>\n",
       "      <td>0.0</td>\n",
       "      <td>0.0</td>\n",
       "      <td>NaN</td>\n",
       "      <td>NaN</td>\n",
       "      <td>NaN</td>\n",
       "      <td>NaN</td>\n",
       "      <td>NaN</td>\n",
       "      <td>NaN</td>\n",
       "      <td>Downtrend</td>\n",
       "    </tr>\n",
       "  </tbody>\n",
       "</table>\n",
       "</div>"
      ],
      "text/plain": [
       "                       HIGH     LOW    OPEN  CLOSE  PRICE_RANGE  RETURNS  \\\n",
       "DATE_TIME                                                                  \n",
       "2000-01-03 00:00:00  0.6574  0.6563  0.6563  0.657       0.0011      NaN   \n",
       "2000-01-03 00:15:00  0.6572  0.6570  0.6572  0.657       0.0002      0.0   \n",
       "\n",
       "                     LOG_RETURNS  VOLATILITY  RSI_14  SMA_20  SMA_50  \\\n",
       "DATE_TIME                                                              \n",
       "2000-01-03 00:00:00          NaN         NaN     NaN     NaN     NaN   \n",
       "2000-01-03 00:15:00          0.0         NaN     NaN     NaN     NaN   \n",
       "\n",
       "                     Resistance  SUPPORT      TREND  \n",
       "DATE_TIME                                            \n",
       "2000-01-03 00:00:00         NaN      NaN  Downtrend  \n",
       "2000-01-03 00:15:00         NaN      NaN  Downtrend  "
      ]
     },
     "execution_count": 45,
     "metadata": {},
     "output_type": "execute_result"
    }
   ],
   "source": [
    "df.head(2 )"
   ]
  },
  {
   "cell_type": "code",
   "execution_count": 48,
   "id": "c7d773a0",
   "metadata": {},
   "outputs": [
    {
     "data": {
      "image/png": "[encoded data removed]",
      "text/plain": [
       "<Figure size 1200x600 with 1 Axes>"
      ]
     },
     "metadata": {},
     "output_type": "display_data"
    },
    {
     "data": {
      "image/png": "[encoded data removed]",
      "text/plain": [
       "<Figure size 1400x700 with 1 Axes>"
      ]
     },
     "metadata": {},
     "output_type": "display_data"
    }
   ],
   "source": [
    "plt.figure(figsize=(12, 6))\n",
    "plt.plot(df.index, df['CLOSE'], label='CLOSE Price', color='blue', alpha=0.6)\n",
    "plt.plot(df.index, df['SMA_20'], label='20-period SMA', color='red', linewidth=1.5)\n",
    "plt.plot(df.index, df['SMA_50'], label='50-period SMA', color='green', linewidth=1.5)\n",
    "plt.grid(True, linestyle='--', alpha=0.7)\n",
    "plt.xlabel('Date')\n",
    "plt.ylabel('Price')\n",
    "plt.legend(loc='best')\n",
    "plt.title('AUDUSD CLOSE Price with Moving Averages')\n",
    "plt.xticks(rotation=45)\n",
    "plt.tight_layout()  # Adjusts plot to prevent label cutoff\n",
    "plt.show()\n",
    "\n",
    "plt.figure(figsize=(14, 7))\n",
    "plt.plot(df.index, df['RSI_14'])\n",
    "plt.axhline(y = 70, color = 'r', linestyle = '--', label = 'Overbought')\n",
    "plt.axhline(y = 30, color = 'g', linestyle = '--', label = 'Oversold')\n",
    "plt.legend()\n",
    "plt.title('AUDUSD 14-period RSI')\n",
    "plt.show()\n"
   ]
  },
  {
   "cell_type": "markdown",
   "id": "22a91b7a",
   "metadata": {},
   "source": [
    "## Trading Signal Analysis"
   ]
  },
  {
   "cell_type": "code",
   "execution_count": null,
   "id": "3e711d44",
   "metadata": {},
   "outputs": [],
   "source": [
    "\n",
    "# Simple trading signal\n",
    "\n",
    "df['SIGNAL'] = 0\n",
    "df.loc[df['SMA_20'] > df['SMA_50'], 'SIGNAL'] = 1 # buy signal\n",
    "df.loc[df['SMA_20'] < df['SMA_50'], 'SIGNAL'] = -1 # sell signal\n",
    "\n",
    "# Create positions (shifted to avoid look-ahead bias)\n",
    "df['POSITION'] = df['SIGNAL'].shift(1)\n",
    "\n",
    "# Calculate returns with transaction costs\n",
    "transaction_cost = 0.0001  # Example transaction cost per trade\n",
    "df['POSITION_CHANGE'] = df['POSITION'].diff().abs()  # Detect trading points\n",
    "df['STRATEGY_RETURNS'] = (df['POSITION'] * df['RETURNS']) - (transaction_cost * df['POSITION'])\n",
    "\n",
    "# Drop NaN values from the initial periods\n",
    "df_strategy = df.dropna()"
   ]
  },
  {
   "cell_type": "code",
   "execution_count": 64,
   "id": "5a6c1d40",
   "metadata": {},
   "outputs": [
    {
     "data": {
      "text/html": [
       "<div>\n",
       "<style scoped>\n",
       "    .dataframe tbody tr th:only-of-type {\n",
       "        vertical-align: middle;\n",
       "    }\n",
       "\n",
       "    .dataframe tbody tr th {\n",
       "        vertical-align: top;\n",
       "    }\n",
       "\n",
       "    .dataframe thead th {\n",
       "        text-align: right;\n",
       "    }\n",
       "</style>\n",
       "<table border=\"1\" class=\"dataframe\">\n",
       "  <thead>\n",
       "    <tr style=\"text-align: right;\">\n",
       "      <th></th>\n",
       "      <th>HIGH</th>\n",
       "      <th>LOW</th>\n",
       "      <th>OPEN</th>\n",
       "      <th>CLOSE</th>\n",
       "      <th>PRICE_RANGE</th>\n",
       "      <th>RETURNS</th>\n",
       "      <th>LOG_RETURNS</th>\n",
       "      <th>VOLATILITY</th>\n",
       "      <th>RSI_14</th>\n",
       "      <th>SMA_20</th>\n",
       "      <th>SMA_50</th>\n",
       "      <th>Resistance</th>\n",
       "      <th>SUPPORT</th>\n",
       "      <th>TREND</th>\n",
       "      <th>SIGNAL</th>\n",
       "      <th>Signal</th>\n",
       "      <th>POSITION</th>\n",
       "      <th>STRATEGY_RETURNS</th>\n",
       "      <th>POSITION_CHANGE</th>\n",
       "    </tr>\n",
       "    <tr>\n",
       "      <th>DATE_TIME</th>\n",
       "      <th></th>\n",
       "      <th></th>\n",
       "      <th></th>\n",
       "      <th></th>\n",
       "      <th></th>\n",
       "      <th></th>\n",
       "      <th></th>\n",
       "      <th></th>\n",
       "      <th></th>\n",
       "      <th></th>\n",
       "      <th></th>\n",
       "      <th></th>\n",
       "      <th></th>\n",
       "      <th></th>\n",
       "      <th></th>\n",
       "      <th></th>\n",
       "      <th></th>\n",
       "      <th></th>\n",
       "      <th></th>\n",
       "    </tr>\n",
       "  </thead>\n",
       "  <tbody>\n",
       "    <tr>\n",
       "      <th>2000-01-03 00:00:00</th>\n",
       "      <td>0.6574</td>\n",
       "      <td>0.6563</td>\n",
       "      <td>0.6563</td>\n",
       "      <td>0.6570</td>\n",
       "      <td>0.0011</td>\n",
       "      <td>NaN</td>\n",
       "      <td>NaN</td>\n",
       "      <td>NaN</td>\n",
       "      <td>NaN</td>\n",
       "      <td>NaN</td>\n",
       "      <td>NaN</td>\n",
       "      <td>NaN</td>\n",
       "      <td>NaN</td>\n",
       "      <td>Downtrend</td>\n",
       "      <td>0</td>\n",
       "      <td>NaN</td>\n",
       "      <td>NaN</td>\n",
       "      <td>NaN</td>\n",
       "      <td>NaN</td>\n",
       "    </tr>\n",
       "    <tr>\n",
       "      <th>2000-01-03 00:15:00</th>\n",
       "      <td>0.6572</td>\n",
       "      <td>0.6570</td>\n",
       "      <td>0.6572</td>\n",
       "      <td>0.6570</td>\n",
       "      <td>0.0002</td>\n",
       "      <td>0.000000</td>\n",
       "      <td>0.000000</td>\n",
       "      <td>NaN</td>\n",
       "      <td>NaN</td>\n",
       "      <td>NaN</td>\n",
       "      <td>NaN</td>\n",
       "      <td>NaN</td>\n",
       "      <td>NaN</td>\n",
       "      <td>Downtrend</td>\n",
       "      <td>0</td>\n",
       "      <td>NaN</td>\n",
       "      <td>0.0</td>\n",
       "      <td>0.000000</td>\n",
       "      <td>NaN</td>\n",
       "    </tr>\n",
       "    <tr>\n",
       "      <th>2000-01-03 01:00:00</th>\n",
       "      <td>0.6585</td>\n",
       "      <td>0.6580</td>\n",
       "      <td>0.6580</td>\n",
       "      <td>0.6585</td>\n",
       "      <td>0.0005</td>\n",
       "      <td>0.002283</td>\n",
       "      <td>0.002281</td>\n",
       "      <td>NaN</td>\n",
       "      <td>NaN</td>\n",
       "      <td>NaN</td>\n",
       "      <td>NaN</td>\n",
       "      <td>NaN</td>\n",
       "      <td>NaN</td>\n",
       "      <td>Downtrend</td>\n",
       "      <td>0</td>\n",
       "      <td>NaN</td>\n",
       "      <td>0.0</td>\n",
       "      <td>0.000000</td>\n",
       "      <td>0.0</td>\n",
       "    </tr>\n",
       "    <tr>\n",
       "      <th>2000-01-03 01:15:00</th>\n",
       "      <td>0.6590</td>\n",
       "      <td>0.6585</td>\n",
       "      <td>0.6589</td>\n",
       "      <td>0.6585</td>\n",
       "      <td>0.0005</td>\n",
       "      <td>0.000000</td>\n",
       "      <td>0.000000</td>\n",
       "      <td>NaN</td>\n",
       "      <td>NaN</td>\n",
       "      <td>NaN</td>\n",
       "      <td>NaN</td>\n",
       "      <td>NaN</td>\n",
       "      <td>NaN</td>\n",
       "      <td>Downtrend</td>\n",
       "      <td>0</td>\n",
       "      <td>NaN</td>\n",
       "      <td>0.0</td>\n",
       "      <td>0.000000</td>\n",
       "      <td>0.0</td>\n",
       "    </tr>\n",
       "    <tr>\n",
       "      <th>2000-01-03 01:30:00</th>\n",
       "      <td>0.6602</td>\n",
       "      <td>0.6595</td>\n",
       "      <td>0.6595</td>\n",
       "      <td>0.6602</td>\n",
       "      <td>0.0007</td>\n",
       "      <td>0.002582</td>\n",
       "      <td>0.002578</td>\n",
       "      <td>NaN</td>\n",
       "      <td>NaN</td>\n",
       "      <td>NaN</td>\n",
       "      <td>NaN</td>\n",
       "      <td>NaN</td>\n",
       "      <td>NaN</td>\n",
       "      <td>Downtrend</td>\n",
       "      <td>0</td>\n",
       "      <td>NaN</td>\n",
       "      <td>0.0</td>\n",
       "      <td>0.000000</td>\n",
       "      <td>0.0</td>\n",
       "    </tr>\n",
       "    <tr>\n",
       "      <th>...</th>\n",
       "      <td>...</td>\n",
       "      <td>...</td>\n",
       "      <td>...</td>\n",
       "      <td>...</td>\n",
       "      <td>...</td>\n",
       "      <td>...</td>\n",
       "      <td>...</td>\n",
       "      <td>...</td>\n",
       "      <td>...</td>\n",
       "      <td>...</td>\n",
       "      <td>...</td>\n",
       "      <td>...</td>\n",
       "      <td>...</td>\n",
       "      <td>...</td>\n",
       "      <td>...</td>\n",
       "      <td>...</td>\n",
       "      <td>...</td>\n",
       "      <td>...</td>\n",
       "      <td>...</td>\n",
       "    </tr>\n",
       "    <tr>\n",
       "      <th>2000-01-04 00:30:00</th>\n",
       "      <td>0.6571</td>\n",
       "      <td>0.6567</td>\n",
       "      <td>0.6567</td>\n",
       "      <td>0.6569</td>\n",
       "      <td>0.0004</td>\n",
       "      <td>0.000000</td>\n",
       "      <td>0.000000</td>\n",
       "      <td>0.001000</td>\n",
       "      <td>18.181818</td>\n",
       "      <td>0.658790</td>\n",
       "      <td>0.658674</td>\n",
       "      <td>0.6615</td>\n",
       "      <td>0.6567</td>\n",
       "      <td>Downtrend</td>\n",
       "      <td>1</td>\n",
       "      <td>NaN</td>\n",
       "      <td>1.0</td>\n",
       "      <td>-0.000100</td>\n",
       "      <td>0.0</td>\n",
       "    </tr>\n",
       "    <tr>\n",
       "      <th>2000-01-04 00:45:00</th>\n",
       "      <td>0.6574</td>\n",
       "      <td>0.6562</td>\n",
       "      <td>0.6570</td>\n",
       "      <td>0.6570</td>\n",
       "      <td>0.0012</td>\n",
       "      <td>0.000152</td>\n",
       "      <td>0.000152</td>\n",
       "      <td>0.000969</td>\n",
       "      <td>22.413793</td>\n",
       "      <td>0.658670</td>\n",
       "      <td>0.658670</td>\n",
       "      <td>0.6615</td>\n",
       "      <td>0.6562</td>\n",
       "      <td>Downtrend</td>\n",
       "      <td>-1</td>\n",
       "      <td>-1.0</td>\n",
       "      <td>1.0</td>\n",
       "      <td>0.000052</td>\n",
       "      <td>0.0</td>\n",
       "    </tr>\n",
       "    <tr>\n",
       "      <th>2000-01-04 01:00:00</th>\n",
       "      <td>0.6573</td>\n",
       "      <td>0.6567</td>\n",
       "      <td>0.6571</td>\n",
       "      <td>0.6570</td>\n",
       "      <td>0.0006</td>\n",
       "      <td>0.000000</td>\n",
       "      <td>0.000000</td>\n",
       "      <td>0.000925</td>\n",
       "      <td>25.000000</td>\n",
       "      <td>0.658515</td>\n",
       "      <td>0.658668</td>\n",
       "      <td>0.6615</td>\n",
       "      <td>0.6562</td>\n",
       "      <td>Downtrend</td>\n",
       "      <td>-1</td>\n",
       "      <td>-1.0</td>\n",
       "      <td>-1.0</td>\n",
       "      <td>0.000100</td>\n",
       "      <td>2.0</td>\n",
       "    </tr>\n",
       "    <tr>\n",
       "      <th>2000-01-04 01:15:00</th>\n",
       "      <td>0.6586</td>\n",
       "      <td>0.6571</td>\n",
       "      <td>0.6574</td>\n",
       "      <td>0.6583</td>\n",
       "      <td>0.0015</td>\n",
       "      <td>0.001979</td>\n",
       "      <td>0.001977</td>\n",
       "      <td>0.001039</td>\n",
       "      <td>49.056604</td>\n",
       "      <td>0.658450</td>\n",
       "      <td>0.658692</td>\n",
       "      <td>0.6615</td>\n",
       "      <td>0.6562</td>\n",
       "      <td>Downtrend</td>\n",
       "      <td>-1</td>\n",
       "      <td>-1.0</td>\n",
       "      <td>-1.0</td>\n",
       "      <td>-0.001879</td>\n",
       "      <td>0.0</td>\n",
       "    </tr>\n",
       "    <tr>\n",
       "      <th>2000-01-04 01:30:00</th>\n",
       "      <td>0.6582</td>\n",
       "      <td>0.6578</td>\n",
       "      <td>0.6581</td>\n",
       "      <td>0.6579</td>\n",
       "      <td>0.0004</td>\n",
       "      <td>-0.000608</td>\n",
       "      <td>-0.000608</td>\n",
       "      <td>0.001045</td>\n",
       "      <td>42.592593</td>\n",
       "      <td>0.658365</td>\n",
       "      <td>0.658708</td>\n",
       "      <td>0.6615</td>\n",
       "      <td>0.6562</td>\n",
       "      <td>Downtrend</td>\n",
       "      <td>-1</td>\n",
       "      <td>-1.0</td>\n",
       "      <td>-1.0</td>\n",
       "      <td>0.000708</td>\n",
       "      <td>0.0</td>\n",
       "    </tr>\n",
       "  </tbody>\n",
       "</table>\n",
       "<p>100 rows × 19 columns</p>\n",
       "</div>"
      ],
      "text/plain": [
       "                       HIGH     LOW    OPEN   CLOSE  PRICE_RANGE   RETURNS  \\\n",
       "DATE_TIME                                                                    \n",
       "2000-01-03 00:00:00  0.6574  0.6563  0.6563  0.6570       0.0011       NaN   \n",
       "2000-01-03 00:15:00  0.6572  0.6570  0.6572  0.6570       0.0002  0.000000   \n",
       "2000-01-03 01:00:00  0.6585  0.6580  0.6580  0.6585       0.0005  0.002283   \n",
       "2000-01-03 01:15:00  0.6590  0.6585  0.6589  0.6585       0.0005  0.000000   \n",
       "2000-01-03 01:30:00  0.6602  0.6595  0.6595  0.6602       0.0007  0.002582   \n",
       "...                     ...     ...     ...     ...          ...       ...   \n",
       "2000-01-04 00:30:00  0.6571  0.6567  0.6567  0.6569       0.0004  0.000000   \n",
       "2000-01-04 00:45:00  0.6574  0.6562  0.6570  0.6570       0.0012  0.000152   \n",
       "2000-01-04 01:00:00  0.6573  0.6567  0.6571  0.6570       0.0006  0.000000   \n",
       "2000-01-04 01:15:00  0.6586  0.6571  0.6574  0.6583       0.0015  0.001979   \n",
       "2000-01-04 01:30:00  0.6582  0.6578  0.6581  0.6579       0.0004 -0.000608   \n",
       "\n",
       "                     LOG_RETURNS  VOLATILITY     RSI_14    SMA_20    SMA_50  \\\n",
       "DATE_TIME                                                                     \n",
       "2000-01-03 00:00:00          NaN         NaN        NaN       NaN       NaN   \n",
       "2000-01-03 00:15:00     0.000000         NaN        NaN       NaN       NaN   \n",
       "2000-01-03 01:00:00     0.002281         NaN        NaN       NaN       NaN   \n",
       "2000-01-03 01:15:00     0.000000         NaN        NaN       NaN       NaN   \n",
       "2000-01-03 01:30:00     0.002578         NaN        NaN       NaN       NaN   \n",
       "...                          ...         ...        ...       ...       ...   \n",
       "2000-01-04 00:30:00     0.000000    0.001000  18.181818  0.658790  0.658674   \n",
       "2000-01-04 00:45:00     0.000152    0.000969  22.413793  0.658670  0.658670   \n",
       "2000-01-04 01:00:00     0.000000    0.000925  25.000000  0.658515  0.658668   \n",
       "2000-01-04 01:15:00     0.001977    0.001039  49.056604  0.658450  0.658692   \n",
       "2000-01-04 01:30:00    -0.000608    0.001045  42.592593  0.658365  0.658708   \n",
       "\n",
       "                     Resistance  SUPPORT      TREND  SIGNAL  Signal  POSITION  \\\n",
       "DATE_TIME                                                                       \n",
       "2000-01-03 00:00:00         NaN      NaN  Downtrend       0     NaN       NaN   \n",
       "2000-01-03 00:15:00         NaN      NaN  Downtrend       0     NaN       0.0   \n",
       "2000-01-03 01:00:00         NaN      NaN  Downtrend       0     NaN       0.0   \n",
       "2000-01-03 01:15:00         NaN      NaN  Downtrend       0     NaN       0.0   \n",
       "2000-01-03 01:30:00         NaN      NaN  Downtrend       0     NaN       0.0   \n",
       "...                         ...      ...        ...     ...     ...       ...   \n",
       "2000-01-04 00:30:00      0.6615   0.6567  Downtrend       1     NaN       1.0   \n",
       "2000-01-04 00:45:00      0.6615   0.6562  Downtrend      -1    -1.0       1.0   \n",
       "2000-01-04 01:00:00      0.6615   0.6562  Downtrend      -1    -1.0      -1.0   \n",
       "2000-01-04 01:15:00      0.6615   0.6562  Downtrend      -1    -1.0      -1.0   \n",
       "2000-01-04 01:30:00      0.6615   0.6562  Downtrend      -1    -1.0      -1.0   \n",
       "\n",
       "                     STRATEGY_RETURNS  POSITION_CHANGE  \n",
       "DATE_TIME                                               \n",
       "2000-01-03 00:00:00               NaN              NaN  \n",
       "2000-01-03 00:15:00          0.000000              NaN  \n",
       "2000-01-03 01:00:00          0.000000              0.0  \n",
       "2000-01-03 01:15:00          0.000000              0.0  \n",
       "2000-01-03 01:30:00          0.000000              0.0  \n",
       "...                               ...              ...  \n",
       "2000-01-04 00:30:00         -0.000100              0.0  \n",
       "2000-01-04 00:45:00          0.000052              0.0  \n",
       "2000-01-04 01:00:00          0.000100              2.0  \n",
       "2000-01-04 01:15:00         -0.001879              0.0  \n",
       "2000-01-04 01:30:00          0.000708              0.0  \n",
       "\n",
       "[100 rows x 19 columns]"
      ]
     },
     "execution_count": 64,
     "metadata": {},
     "output_type": "execute_result"
    }
   ],
   "source": [
    "df.head(100)"
   ]
  },
  {
   "cell_type": "code",
   "execution_count": 66,
   "id": "85b50fe0",
   "metadata": {},
   "outputs": [
    {
     "name": "stdout",
     "output_type": "stream",
     "text": [
      "Sharpe Ratio: -0.04\n",
      "Max Drawdown: -12.02%\n"
     ]
    }
   ],
   "source": [
    "# Claculate Strategy performance\n",
    "\n",
    "cumulative_returns = (1 + df_strategy['STRATEGY_RETURNS']).cumprod() \n",
    "sharpe_ratio = np.sqrt(252) * (df['STRATEGY_RETURNS'].mean() / df['STRATEGY_RETURNS'].std())\n",
    "max_drawdown = (cumulative_returns/ cumulative_returns.cummax() -1).min() \n",
    "\n",
    "print(f\"Sharpe Ratio: {sharpe_ratio:.2f}\")\n",
    "print(f\"Max Drawdown: {max_drawdown:.2%}\")"
   ]
  },
  {
   "cell_type": "code",
   "execution_count": 67,
   "id": "630f0420",
   "metadata": {},
   "outputs": [
    {
     "name": "stdout",
     "output_type": "stream",
     "text": [
      "Sharpe Ratio: -1.50\n"
     ]
    }
   ],
   "source": [
    "# Add risk-free rate for more accurate Sharpe ratio calculation:\n",
    "\n",
    "risk_free_rate = 0.02  # 2% annual risk-free rate\n",
    "daily_rf = (1 + risk_free_rate)**(1/252) - 1\n",
    "sharpe_ratio = np.sqrt(252) * ((df['STRATEGY_RETURNS'].mean() - daily_rf) / \n",
    "                               df['STRATEGY_RETURNS'].std())\n",
    "\n",
    "print(f\"Sharpe Ratio: {sharpe_ratio:.2f}\")"
   ]
  },
  {
   "cell_type": "markdown",
   "id": "9b0a92eb",
   "metadata": {},
   "source": [
    "## Summary Statistics"
   ]
  },
  {
   "cell_type": "code",
   "execution_count": 68,
   "id": "1b27d953",
   "metadata": {},
   "outputs": [
    {
     "name": "stdout",
     "output_type": "stream",
     "text": [
      "Buy & Hold Total Return: -15.20%\n",
      "Strategy Total Return: -72.57%\n",
      "sharpe_ratio: 0.00\n"
     ]
    }
   ],
   "source": [
    "total_returns = (1 + df['RETURNS']).prod() - 1\n",
    "strategy_return = (1 + df['STRATEGY_RETURNS']).prod() - 1\n",
    "\n",
    "print(f\"Buy & Hold Total Return: {total_returns:.2%}\")\n",
    "print(f\"Strategy Total Return: {strategy_return:.2%}\")\n",
    "print(f\"sharpe_ratio: {df['RETURNS'].mean() / df['RETURNS'].std() * np.sqrt(252):.2f}\")"
   ]
  }
 ],
 "metadata": {
  "kernelspec": {
   "display_name": "Python 3",
   "language": "python",
   "name": "python3"
  },
  "language_info": {
   "codemirror_mode": {
    "name": "ipython",
    "version": 3
   },
   "file_extension": ".py",
   "mimetype": "text/x-python",
   "name": "python",
   "nbconvert_exporter": "python",
   "pygments_lexer": "ipython3",
   "version": "3.11.9"
  }
 },
 "nbformat": 4,
 "nbformat_minor": 5
}
