{
 "cells": [
  {
   "cell_type": "code",
   "execution_count": 4,
   "id": "283fe04a",
   "metadata": {},
   "outputs": [],
   "source": [
    "import pandas as pd\n",
    "import numpy as np\n",
    "import matplotlib.pyplot as plt\n",
    "\n",
    "df = pd.read_csv('AUDUSD-2000-2020-15m.csv')"
   ]
  },
  {
   "cell_type": "code",
   "execution_count": 5,
   "id": "aab098b5",
   "metadata": {},
   "outputs": [
    {
     "data": {
      "text/html": [
       "<div>\n",
       "<style scoped>\n",
       "    .dataframe tbody tr th:only-of-type {\n",
       "        vertical-align: middle;\n",
       "    }\n",
       "\n",
       "    .dataframe tbody tr th {\n",
       "        vertical-align: top;\n",
       "    }\n",
       "\n",
       "    .dataframe thead th {\n",
       "        text-align: right;\n",
       "    }\n",
       "</style>\n",
       "<table border=\"1\" class=\"dataframe\">\n",
       "  <thead>\n",
       "    <tr style=\"text-align: right;\">\n",
       "      <th></th>\n",
       "      <th>DATE_TIME</th>\n",
       "      <th>HIGH</th>\n",
       "      <th>LOW</th>\n",
       "      <th>OPEN</th>\n",
       "      <th>CLOSE</th>\n",
       "    </tr>\n",
       "  </thead>\n",
       "  <tbody>\n",
       "    <tr>\n",
       "      <th>0</th>\n",
       "      <td>2000.01.03 00:00:00</td>\n",
       "      <td>0.65740</td>\n",
       "      <td>0.65630</td>\n",
       "      <td>0.65630</td>\n",
       "      <td>0.65700</td>\n",
       "    </tr>\n",
       "    <tr>\n",
       "      <th>1</th>\n",
       "      <td>2000.01.03 00:15:00</td>\n",
       "      <td>0.65720</td>\n",
       "      <td>0.65700</td>\n",
       "      <td>0.65720</td>\n",
       "      <td>0.65700</td>\n",
       "    </tr>\n",
       "    <tr>\n",
       "      <th>2</th>\n",
       "      <td>2000.01.03 01:00:00</td>\n",
       "      <td>0.65850</td>\n",
       "      <td>0.65800</td>\n",
       "      <td>0.65800</td>\n",
       "      <td>0.65850</td>\n",
       "    </tr>\n",
       "    <tr>\n",
       "      <th>3</th>\n",
       "      <td>2000.01.03 01:15:00</td>\n",
       "      <td>0.65900</td>\n",
       "      <td>0.65850</td>\n",
       "      <td>0.65890</td>\n",
       "      <td>0.65850</td>\n",
       "    </tr>\n",
       "    <tr>\n",
       "      <th>4</th>\n",
       "      <td>2000.01.03 01:30:00</td>\n",
       "      <td>0.66020</td>\n",
       "      <td>0.65950</td>\n",
       "      <td>0.65950</td>\n",
       "      <td>0.66020</td>\n",
       "    </tr>\n",
       "    <tr>\n",
       "      <th>...</th>\n",
       "      <td>...</td>\n",
       "      <td>...</td>\n",
       "      <td>...</td>\n",
       "      <td>...</td>\n",
       "      <td>...</td>\n",
       "    </tr>\n",
       "    <tr>\n",
       "      <th>500022</th>\n",
       "      <td>2020.03.19 05:00:00</td>\n",
       "      <td>0.55519</td>\n",
       "      <td>0.55138</td>\n",
       "      <td>0.55518</td>\n",
       "      <td>0.55405</td>\n",
       "    </tr>\n",
       "    <tr>\n",
       "      <th>500023</th>\n",
       "      <td>2020.03.19 05:15:00</td>\n",
       "      <td>0.55528</td>\n",
       "      <td>0.55269</td>\n",
       "      <td>0.55406</td>\n",
       "      <td>0.55427</td>\n",
       "    </tr>\n",
       "    <tr>\n",
       "      <th>500024</th>\n",
       "      <td>2020.03.19 05:30:00</td>\n",
       "      <td>0.56336</td>\n",
       "      <td>0.55408</td>\n",
       "      <td>0.55427</td>\n",
       "      <td>0.55843</td>\n",
       "    </tr>\n",
       "    <tr>\n",
       "      <th>500025</th>\n",
       "      <td>2020.03.19 05:45:00</td>\n",
       "      <td>0.55907</td>\n",
       "      <td>0.55530</td>\n",
       "      <td>0.55846</td>\n",
       "      <td>0.55576</td>\n",
       "    </tr>\n",
       "    <tr>\n",
       "      <th>500026</th>\n",
       "      <td>2020.03.19 06:00:00</td>\n",
       "      <td>0.55812</td>\n",
       "      <td>0.55576</td>\n",
       "      <td>0.55576</td>\n",
       "      <td>0.55712</td>\n",
       "    </tr>\n",
       "  </tbody>\n",
       "</table>\n",
       "<p>500027 rows × 5 columns</p>\n",
       "</div>"
      ],
      "text/plain": [
       "                  DATE_TIME     HIGH      LOW     OPEN    CLOSE\n",
       "0       2000.01.03 00:00:00  0.65740  0.65630  0.65630  0.65700\n",
       "1       2000.01.03 00:15:00  0.65720  0.65700  0.65720  0.65700\n",
       "2       2000.01.03 01:00:00  0.65850  0.65800  0.65800  0.65850\n",
       "3       2000.01.03 01:15:00  0.65900  0.65850  0.65890  0.65850\n",
       "4       2000.01.03 01:30:00  0.66020  0.65950  0.65950  0.66020\n",
       "...                     ...      ...      ...      ...      ...\n",
       "500022  2020.03.19 05:00:00  0.55519  0.55138  0.55518  0.55405\n",
       "500023  2020.03.19 05:15:00  0.55528  0.55269  0.55406  0.55427\n",
       "500024  2020.03.19 05:30:00  0.56336  0.55408  0.55427  0.55843\n",
       "500025  2020.03.19 05:45:00  0.55907  0.55530  0.55846  0.55576\n",
       "500026  2020.03.19 06:00:00  0.55812  0.55576  0.55576  0.55712\n",
       "\n",
       "[500027 rows x 5 columns]"
      ]
     },
     "execution_count": 5,
     "metadata": {},
     "output_type": "execute_result"
    }
   ],
   "source": [
    "df"
   ]
  },
  {
   "cell_type": "code",
   "execution_count": 6,
   "id": "412d9707",
   "metadata": {},
   "outputs": [
    {
     "data": {
      "text/plain": [
       "DATE_TIME    0\n",
       "HIGH         0\n",
       "LOW          0\n",
       "OPEN         0\n",
       "CLOSE        0\n",
       "dtype: int64"
      ]
     },
     "execution_count": 6,
     "metadata": {},
     "output_type": "execute_result"
    }
   ],
   "source": [
    "df.isnull().sum()"
   ]
  },
  {
   "cell_type": "code",
   "execution_count": 7,
   "id": "8ce34c55",
   "metadata": {},
   "outputs": [
    {
     "data": {
      "text/plain": [
       "DATE_TIME    500027\n",
       "HIGH         500027\n",
       "LOW          500027\n",
       "OPEN         500027\n",
       "CLOSE        500027\n",
       "dtype: int64"
      ]
     },
     "execution_count": 7,
     "metadata": {},
     "output_type": "execute_result"
    }
   ],
   "source": [
    "df.notnull().sum()"
   ]
  },
  {
   "cell_type": "code",
   "execution_count": 8,
   "id": "c6b0ed25",
   "metadata": {},
   "outputs": [
    {
     "name": "stdout",
     "output_type": "stream",
     "text": [
      "<class 'pandas.core.frame.DataFrame'>\n",
      "RangeIndex: 500027 entries, 0 to 500026\n",
      "Data columns (total 5 columns):\n",
      " #   Column     Non-Null Count   Dtype  \n",
      "---  ------     --------------   -----  \n",
      " 0   DATE_TIME  500027 non-null  object \n",
      " 1   HIGH       500027 non-null  float64\n",
      " 2   LOW        500027 non-null  float64\n",
      " 3   OPEN       500027 non-null  float64\n",
      " 4   CLOSE      500027 non-null  float64\n",
      "dtypes: float64(4), object(1)\n",
      "memory usage: 19.1+ MB\n"
     ]
    }
   ],
   "source": [
    "df.info()"
   ]
  },
  {
   "cell_type": "code",
   "execution_count": 9,
   "id": "bd616364",
   "metadata": {},
   "outputs": [
    {
     "data": {
      "text/plain": [
       "Index(['DATE_TIME', 'HIGH', 'LOW', 'OPEN', 'CLOSE'], dtype='object')"
      ]
     },
     "execution_count": 9,
     "metadata": {},
     "output_type": "execute_result"
    }
   ],
   "source": [
    "df.columns"
   ]
  },
  {
   "cell_type": "code",
   "execution_count": 10,
   "id": "7872ccbe",
   "metadata": {},
   "outputs": [
    {
     "data": {
      "text/plain": [
       "0         2000.01.03 00:00:00\n",
       "1         2000.01.03 00:15:00\n",
       "2         2000.01.03 01:00:00\n",
       "3         2000.01.03 01:15:00\n",
       "4         2000.01.03 01:30:00\n",
       "                 ...         \n",
       "500022    2020.03.19 05:00:00\n",
       "500023    2020.03.19 05:15:00\n",
       "500024    2020.03.19 05:30:00\n",
       "500025    2020.03.19 05:45:00\n",
       "500026    2020.03.19 06:00:00\n",
       "Name: DATE_TIME, Length: 500027, dtype: object"
      ]
     },
     "execution_count": 10,
     "metadata": {},
     "output_type": "execute_result"
    }
   ],
   "source": [
    "df['DATE_TIME']"
   ]
  },
  {
   "cell_type": "code",
   "execution_count": 11,
   "id": "908c3fd5",
   "metadata": {},
   "outputs": [
    {
     "data": {
      "text/html": [
       "<div>\n",
       "<style scoped>\n",
       "    .dataframe tbody tr th:only-of-type {\n",
       "        vertical-align: middle;\n",
       "    }\n",
       "\n",
       "    .dataframe tbody tr th {\n",
       "        vertical-align: top;\n",
       "    }\n",
       "\n",
       "    .dataframe thead th {\n",
       "        text-align: right;\n",
       "    }\n",
       "</style>\n",
       "<table border=\"1\" class=\"dataframe\">\n",
       "  <thead>\n",
       "    <tr style=\"text-align: right;\">\n",
       "      <th></th>\n",
       "      <th>DATE_TIME</th>\n",
       "      <th>HIGH</th>\n",
       "      <th>LOW</th>\n",
       "      <th>OPEN</th>\n",
       "      <th>CLOSE</th>\n",
       "    </tr>\n",
       "  </thead>\n",
       "  <tbody>\n",
       "    <tr>\n",
       "      <th>0</th>\n",
       "      <td>2000.01.03 00:00:00</td>\n",
       "      <td>0.6574</td>\n",
       "      <td>0.6563</td>\n",
       "      <td>0.6563</td>\n",
       "      <td>0.657</td>\n",
       "    </tr>\n",
       "    <tr>\n",
       "      <th>1</th>\n",
       "      <td>2000.01.03 00:15:00</td>\n",
       "      <td>0.6572</td>\n",
       "      <td>0.6570</td>\n",
       "      <td>0.6572</td>\n",
       "      <td>0.657</td>\n",
       "    </tr>\n",
       "  </tbody>\n",
       "</table>\n",
       "</div>"
      ],
      "text/plain": [
       "             DATE_TIME    HIGH     LOW    OPEN  CLOSE\n",
       "0  2000.01.03 00:00:00  0.6574  0.6563  0.6563  0.657\n",
       "1  2000.01.03 00:15:00  0.6572  0.6570  0.6572  0.657"
      ]
     },
     "execution_count": 11,
     "metadata": {},
     "output_type": "execute_result"
    }
   ],
   "source": [
    "df.head(2)"
   ]
  },
  {
   "cell_type": "code",
   "execution_count": 12,
   "id": "6a4cb18b",
   "metadata": {},
   "outputs": [
    {
     "data": {
      "text/html": [
       "<div>\n",
       "<style scoped>\n",
       "    .dataframe tbody tr th:only-of-type {\n",
       "        vertical-align: middle;\n",
       "    }\n",
       "\n",
       "    .dataframe tbody tr th {\n",
       "        vertical-align: top;\n",
       "    }\n",
       "\n",
       "    .dataframe thead th {\n",
       "        text-align: right;\n",
       "    }\n",
       "</style>\n",
       "<table border=\"1\" class=\"dataframe\">\n",
       "  <thead>\n",
       "    <tr style=\"text-align: right;\">\n",
       "      <th></th>\n",
       "      <th>HIGH</th>\n",
       "      <th>LOW</th>\n",
       "      <th>OPEN</th>\n",
       "      <th>CLOSE</th>\n",
       "    </tr>\n",
       "  </thead>\n",
       "  <tbody>\n",
       "    <tr>\n",
       "      <th>count</th>\n",
       "      <td>500027.000000</td>\n",
       "      <td>500027.000000</td>\n",
       "      <td>500027.000000</td>\n",
       "      <td>500027.000000</td>\n",
       "    </tr>\n",
       "    <tr>\n",
       "      <th>mean</th>\n",
       "      <td>0.778912</td>\n",
       "      <td>0.778012</td>\n",
       "      <td>0.778462</td>\n",
       "      <td>0.778461</td>\n",
       "    </tr>\n",
       "    <tr>\n",
       "      <th>std</th>\n",
       "      <td>0.148241</td>\n",
       "      <td>0.148199</td>\n",
       "      <td>0.148221</td>\n",
       "      <td>0.148221</td>\n",
       "    </tr>\n",
       "    <tr>\n",
       "      <th>min</th>\n",
       "      <td>0.478200</td>\n",
       "      <td>0.477500</td>\n",
       "      <td>0.477700</td>\n",
       "      <td>0.477900</td>\n",
       "    </tr>\n",
       "    <tr>\n",
       "      <th>25%</th>\n",
       "      <td>0.695400</td>\n",
       "      <td>0.694500</td>\n",
       "      <td>0.694935</td>\n",
       "      <td>0.694930</td>\n",
       "    </tr>\n",
       "    <tr>\n",
       "      <th>50%</th>\n",
       "      <td>0.761870</td>\n",
       "      <td>0.761000</td>\n",
       "      <td>0.761430</td>\n",
       "      <td>0.761430</td>\n",
       "    </tr>\n",
       "    <tr>\n",
       "      <th>75%</th>\n",
       "      <td>0.895110</td>\n",
       "      <td>0.894150</td>\n",
       "      <td>0.894600</td>\n",
       "      <td>0.894600</td>\n",
       "    </tr>\n",
       "    <tr>\n",
       "      <th>max</th>\n",
       "      <td>1.107970</td>\n",
       "      <td>1.106700</td>\n",
       "      <td>1.107210</td>\n",
       "      <td>1.107200</td>\n",
       "    </tr>\n",
       "  </tbody>\n",
       "</table>\n",
       "</div>"
      ],
      "text/plain": [
       "                HIGH            LOW           OPEN          CLOSE\n",
       "count  500027.000000  500027.000000  500027.000000  500027.000000\n",
       "mean        0.778912       0.778012       0.778462       0.778461\n",
       "std         0.148241       0.148199       0.148221       0.148221\n",
       "min         0.478200       0.477500       0.477700       0.477900\n",
       "25%         0.695400       0.694500       0.694935       0.694930\n",
       "50%         0.761870       0.761000       0.761430       0.761430\n",
       "75%         0.895110       0.894150       0.894600       0.894600\n",
       "max         1.107970       1.106700       1.107210       1.107200"
      ]
     },
     "execution_count": 12,
     "metadata": {},
     "output_type": "execute_result"
    }
   ],
   "source": [
    "df.describe()"
   ]
  },
  {
   "cell_type": "markdown",
   "id": "d94d4894",
   "metadata": {},
   "source": [
    "## Data preprocessing "
   ]
  },
  {
   "cell_type": "code",
   "execution_count": 13,
   "id": "4a39a8f7",
   "metadata": {},
   "outputs": [
    {
     "data": {
      "text/html": [
       "<div>\n",
       "<style scoped>\n",
       "    .dataframe tbody tr th:only-of-type {\n",
       "        vertical-align: middle;\n",
       "    }\n",
       "\n",
       "    .dataframe tbody tr th {\n",
       "        vertical-align: top;\n",
       "    }\n",
       "\n",
       "    .dataframe thead th {\n",
       "        text-align: right;\n",
       "    }\n",
       "</style>\n",
       "<table border=\"1\" class=\"dataframe\">\n",
       "  <thead>\n",
       "    <tr style=\"text-align: right;\">\n",
       "      <th></th>\n",
       "      <th>DATE_TIME</th>\n",
       "      <th>HIGH</th>\n",
       "      <th>LOW</th>\n",
       "      <th>OPEN</th>\n",
       "      <th>CLOSE</th>\n",
       "    </tr>\n",
       "  </thead>\n",
       "  <tbody>\n",
       "    <tr>\n",
       "      <th>0</th>\n",
       "      <td>2000.01.03 00:00:00</td>\n",
       "      <td>0.6574</td>\n",
       "      <td>0.6563</td>\n",
       "      <td>0.6563</td>\n",
       "      <td>0.657</td>\n",
       "    </tr>\n",
       "    <tr>\n",
       "      <th>1</th>\n",
       "      <td>2000.01.03 00:15:00</td>\n",
       "      <td>0.6572</td>\n",
       "      <td>0.6570</td>\n",
       "      <td>0.6572</td>\n",
       "      <td>0.657</td>\n",
       "    </tr>\n",
       "  </tbody>\n",
       "</table>\n",
       "</div>"
      ],
      "text/plain": [
       "             DATE_TIME    HIGH     LOW    OPEN  CLOSE\n",
       "0  2000.01.03 00:00:00  0.6574  0.6563  0.6563  0.657\n",
       "1  2000.01.03 00:15:00  0.6572  0.6570  0.6572  0.657"
      ]
     },
     "execution_count": 13,
     "metadata": {},
     "output_type": "execute_result"
    }
   ],
   "source": [
    "df.head(2)"
   ]
  },
  {
   "cell_type": "code",
   "execution_count": 14,
   "id": "9bc9bb8b",
   "metadata": {},
   "outputs": [],
   "source": [
    "df['DATE_TIME'] = pd.to_datetime(df['DATE_TIME'])"
   ]
  },
  {
   "cell_type": "code",
   "execution_count": 15,
   "id": "dcfbd4b1",
   "metadata": {},
   "outputs": [
    {
     "data": {
      "text/html": [
       "<div>\n",
       "<style scoped>\n",
       "    .dataframe tbody tr th:only-of-type {\n",
       "        vertical-align: middle;\n",
       "    }\n",
       "\n",
       "    .dataframe tbody tr th {\n",
       "        vertical-align: top;\n",
       "    }\n",
       "\n",
       "    .dataframe thead th {\n",
       "        text-align: right;\n",
       "    }\n",
       "</style>\n",
       "<table border=\"1\" class=\"dataframe\">\n",
       "  <thead>\n",
       "    <tr style=\"text-align: right;\">\n",
       "      <th></th>\n",
       "      <th>DATE_TIME</th>\n",
       "      <th>HIGH</th>\n",
       "      <th>LOW</th>\n",
       "      <th>OPEN</th>\n",
       "      <th>CLOSE</th>\n",
       "    </tr>\n",
       "  </thead>\n",
       "  <tbody>\n",
       "    <tr>\n",
       "      <th>0</th>\n",
       "      <td>2000-01-03 00:00:00</td>\n",
       "      <td>0.6574</td>\n",
       "      <td>0.6563</td>\n",
       "      <td>0.6563</td>\n",
       "      <td>0.657</td>\n",
       "    </tr>\n",
       "    <tr>\n",
       "      <th>1</th>\n",
       "      <td>2000-01-03 00:15:00</td>\n",
       "      <td>0.6572</td>\n",
       "      <td>0.6570</td>\n",
       "      <td>0.6572</td>\n",
       "      <td>0.657</td>\n",
       "    </tr>\n",
       "  </tbody>\n",
       "</table>\n",
       "</div>"
      ],
      "text/plain": [
       "            DATE_TIME    HIGH     LOW    OPEN  CLOSE\n",
       "0 2000-01-03 00:00:00  0.6574  0.6563  0.6563  0.657\n",
       "1 2000-01-03 00:15:00  0.6572  0.6570  0.6572  0.657"
      ]
     },
     "execution_count": 15,
     "metadata": {},
     "output_type": "execute_result"
    }
   ],
   "source": [
    "df.head(2)"
   ]
  },
  {
   "cell_type": "code",
   "execution_count": 16,
   "id": "74558831",
   "metadata": {},
   "outputs": [],
   "source": [
    "df = df.set_index('DATE_TIME')"
   ]
  },
  {
   "cell_type": "code",
   "execution_count": 17,
   "id": "ff745ffc",
   "metadata": {},
   "outputs": [
    {
     "data": {
      "text/html": [
       "<div>\n",
       "<style scoped>\n",
       "    .dataframe tbody tr th:only-of-type {\n",
       "        vertical-align: middle;\n",
       "    }\n",
       "\n",
       "    .dataframe tbody tr th {\n",
       "        vertical-align: top;\n",
       "    }\n",
       "\n",
       "    .dataframe thead th {\n",
       "        text-align: right;\n",
       "    }\n",
       "</style>\n",
       "<table border=\"1\" class=\"dataframe\">\n",
       "  <thead>\n",
       "    <tr style=\"text-align: right;\">\n",
       "      <th></th>\n",
       "      <th>HIGH</th>\n",
       "      <th>LOW</th>\n",
       "      <th>OPEN</th>\n",
       "      <th>CLOSE</th>\n",
       "    </tr>\n",
       "    <tr>\n",
       "      <th>DATE_TIME</th>\n",
       "      <th></th>\n",
       "      <th></th>\n",
       "      <th></th>\n",
       "      <th></th>\n",
       "    </tr>\n",
       "  </thead>\n",
       "  <tbody>\n",
       "    <tr>\n",
       "      <th>2000-01-03 00:00:00</th>\n",
       "      <td>0.6574</td>\n",
       "      <td>0.6563</td>\n",
       "      <td>0.6563</td>\n",
       "      <td>0.657</td>\n",
       "    </tr>\n",
       "    <tr>\n",
       "      <th>2000-01-03 00:15:00</th>\n",
       "      <td>0.6572</td>\n",
       "      <td>0.6570</td>\n",
       "      <td>0.6572</td>\n",
       "      <td>0.657</td>\n",
       "    </tr>\n",
       "  </tbody>\n",
       "</table>\n",
       "</div>"
      ],
      "text/plain": [
       "                       HIGH     LOW    OPEN  CLOSE\n",
       "DATE_TIME                                         \n",
       "2000-01-03 00:00:00  0.6574  0.6563  0.6563  0.657\n",
       "2000-01-03 00:15:00  0.6572  0.6570  0.6572  0.657"
      ]
     },
     "execution_count": 17,
     "metadata": {},
     "output_type": "execute_result"
    }
   ],
   "source": [
    "df.head(2)"
   ]
  },
  {
   "cell_type": "code",
   "execution_count": 18,
   "id": "01993978",
   "metadata": {},
   "outputs": [
    {
     "data": {
      "text/plain": [
       "DatetimeIndex(['2000-01-03 00:00:00', '2000-01-03 00:15:00',\n",
       "               '2000-01-03 01:00:00', '2000-01-03 01:15:00',\n",
       "               '2000-01-03 01:30:00', '2000-01-03 01:45:00',\n",
       "               '2000-01-03 02:00:00', '2000-01-03 02:15:00',\n",
       "               '2000-01-03 02:30:00', '2000-01-03 02:45:00',\n",
       "               ...\n",
       "               '2020-03-19 03:45:00', '2020-03-19 04:00:00',\n",
       "               '2020-03-19 04:15:00', '2020-03-19 04:30:00',\n",
       "               '2020-03-19 04:45:00', '2020-03-19 05:00:00',\n",
       "               '2020-03-19 05:15:00', '2020-03-19 05:30:00',\n",
       "               '2020-03-19 05:45:00', '2020-03-19 06:00:00'],\n",
       "              dtype='datetime64[ns]', name='DATE_TIME', length=500027, freq=None)"
      ]
     },
     "execution_count": 18,
     "metadata": {},
     "output_type": "execute_result"
    }
   ],
   "source": [
    "df.index"
   ]
  },
  {
   "cell_type": "code",
   "execution_count": 19,
   "id": "c7694afe",
   "metadata": {},
   "outputs": [
    {
     "data": {
      "text/plain": [
       "dtype('<M8[ns]')"
      ]
     },
     "execution_count": 19,
     "metadata": {},
     "output_type": "execute_result"
    }
   ],
   "source": [
    "df.index.dtype"
   ]
  },
  {
   "cell_type": "code",
   "execution_count": 26,
   "id": "43f0c3f4",
   "metadata": {},
   "outputs": [
    {
     "data": {
      "text/plain": [
       "HIGH     18644.55847\n",
       "LOW      18623.83095\n",
       "OPEN     18634.08182\n",
       "CLOSE    18634.05059\n",
       "dtype: float64"
      ]
     },
     "execution_count": 26,
     "metadata": {},
     "output_type": "execute_result"
    }
   ],
   "source": [
    "df[df.index.year == 2015].sum()"
   ]
  },
  {
   "cell_type": "markdown",
   "id": "dc494963",
   "metadata": {},
   "source": [
    "## Basic Statistical Analysis"
   ]
  },
  {
   "cell_type": "code",
   "execution_count": null,
   "id": "b9e15e06",
   "metadata": {},
   "outputs": [],
   "source": []
  }
 ],
 "metadata": {
  "kernelspec": {
   "display_name": "Python 3",
   "language": "python",
   "name": "python3"
  },
  "language_info": {
   "codemirror_mode": {
    "name": "ipython",
    "version": 3
   },
   "file_extension": ".py",
   "mimetype": "text/x-python",
   "name": "python",
   "nbconvert_exporter": "python",
   "pygments_lexer": "ipython3",
   "version": "3.11.9"
  }
 },
 "nbformat": 4,
 "nbformat_minor": 5
}
